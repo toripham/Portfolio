{
 "cells": [
  {
   "cell_type": "markdown",
   "id": "c0232207",
   "metadata": {},
   "source": [
    "<div style=\"background-color:lavender; color:#black; text-align:center; padding:2%\">\n",
    "    \n",
    "Виктория: ✔️\n",
    "    \n",
    "1.Название проекта: Анализ сервиса аренды самокатов GoFast\n",
    "    \n",
    "2.Описание проекта: Были переданы данные о некоторых пользователях из нескольких городов, а также об их поездках. Нужно проанализировать данные и проверить некоторые гипотезы, которые могут помочь бизнесу вырасти.\n",
    "    \n",
    "3.Описание данных\n",
    "\n",
    "Датафрейм с пользователями — users_go.csv\n",
    "\n",
    "`user_id` — уникальный идентификатор пользователя\n",
    "    \n",
    "`name` — имя пользователя\n",
    "    \n",
    "`age` — возраст\n",
    "    \n",
    "`city` — город\n",
    "    \n",
    "`subscription_type` — тип подписки (free, ultra)\n",
    "    \n",
    "Датафрейм с поeздками — rides_go.csv\n",
    "\n",
    "`user_id` — уникальный идентификатор пользователя\n",
    "    \n",
    "`distance` — расстояние, которое пользователь проехал в текущей сессии (в метрах)\n",
    "    \n",
    "`duration` — продолжительность сессии (в минутах) — время с того момента, как пользователь нажал кнопку «Начать поездку» до момента, как он нажал кнопку «Завершить поездку»\n",
    "    \n",
    "`date` — дата совершения поездки\n",
    "    \n",
    "Датафрейм с подписками — subscriptions_go.csv\n",
    "\n",
    "`subscription_type` — тип подписки\n",
    "    \n",
    "`minute_price` — стоимость одной минуты поездки по данной подписке\n",
    "    \n",
    "`start_ride_price` — стоимость начала поездки\n",
    "    \n",
    "`subscription_fee` — стоимость ежемесячного платежа"
   ]
  },
  {
   "cell_type": "code",
   "execution_count": 1,
   "id": "72576667",
   "metadata": {},
   "outputs": [],
   "source": [
    "import pandas as pd\n",
    "import numpy as np\n",
    "import seaborn as sns\n",
    "import matplotlib.pyplot as plt\n",
    "import scipy.stats as st"
   ]
  },
  {
   "cell_type": "markdown",
   "id": "c42cbe00",
   "metadata": {},
   "source": [
    "# Шаг 1. Загрузка данных"
   ]
  },
  {
   "cell_type": "code",
   "execution_count": 2,
   "id": "eff9f206",
   "metadata": {},
   "outputs": [],
   "source": [
    "users = pd.read_csv('/datasets/users_go.csv')\n",
    "rides = pd.read_csv('/datasets/rides_go.csv')\n",
    "subscriptions = pd.read_csv('/datasets/subscriptions_go.csv')"
   ]
  },
  {
   "cell_type": "code",
   "execution_count": 6,
   "id": "69176801",
   "metadata": {},
   "outputs": [
    {
     "name": "stdout",
     "output_type": "stream",
     "text": [
      "<class 'pandas.core.frame.DataFrame'>\n",
      "RangeIndex: 1565 entries, 0 to 1564\n",
      "Data columns (total 5 columns):\n",
      " #   Column             Non-Null Count  Dtype \n",
      "---  ------             --------------  ----- \n",
      " 0   user_id            1565 non-null   int64 \n",
      " 1   name               1565 non-null   object\n",
      " 2   age                1565 non-null   int64 \n",
      " 3   city               1565 non-null   object\n",
      " 4   subscription_type  1565 non-null   object\n",
      "dtypes: int64(2), object(3)\n",
      "memory usage: 61.3+ KB\n",
      "None\n"
     ]
    },
    {
     "data": {
      "text/html": [
       "<div>\n",
       "<style scoped>\n",
       "    .dataframe tbody tr th:only-of-type {\n",
       "        vertical-align: middle;\n",
       "    }\n",
       "\n",
       "    .dataframe tbody tr th {\n",
       "        vertical-align: top;\n",
       "    }\n",
       "\n",
       "    .dataframe thead th {\n",
       "        text-align: right;\n",
       "    }\n",
       "</style>\n",
       "<table border=\"1\" class=\"dataframe\">\n",
       "  <thead>\n",
       "    <tr style=\"text-align: right;\">\n",
       "      <th></th>\n",
       "      <th>user_id</th>\n",
       "      <th>name</th>\n",
       "      <th>age</th>\n",
       "      <th>city</th>\n",
       "      <th>subscription_type</th>\n",
       "    </tr>\n",
       "  </thead>\n",
       "  <tbody>\n",
       "    <tr>\n",
       "      <th>0</th>\n",
       "      <td>1</td>\n",
       "      <td>Кира</td>\n",
       "      <td>22</td>\n",
       "      <td>Тюмень</td>\n",
       "      <td>ultra</td>\n",
       "    </tr>\n",
       "    <tr>\n",
       "      <th>1</th>\n",
       "      <td>2</td>\n",
       "      <td>Станислав</td>\n",
       "      <td>31</td>\n",
       "      <td>Омск</td>\n",
       "      <td>ultra</td>\n",
       "    </tr>\n",
       "    <tr>\n",
       "      <th>2</th>\n",
       "      <td>3</td>\n",
       "      <td>Алексей</td>\n",
       "      <td>20</td>\n",
       "      <td>Москва</td>\n",
       "      <td>ultra</td>\n",
       "    </tr>\n",
       "    <tr>\n",
       "      <th>3</th>\n",
       "      <td>4</td>\n",
       "      <td>Константин</td>\n",
       "      <td>26</td>\n",
       "      <td>Ростов-на-Дону</td>\n",
       "      <td>ultra</td>\n",
       "    </tr>\n",
       "    <tr>\n",
       "      <th>4</th>\n",
       "      <td>5</td>\n",
       "      <td>Адель</td>\n",
       "      <td>28</td>\n",
       "      <td>Омск</td>\n",
       "      <td>ultra</td>\n",
       "    </tr>\n",
       "  </tbody>\n",
       "</table>\n",
       "</div>"
      ],
      "text/plain": [
       "   user_id        name  age            city subscription_type\n",
       "0        1        Кира   22          Тюмень             ultra\n",
       "1        2   Станислав   31            Омск             ultra\n",
       "2        3     Алексей   20          Москва             ultra\n",
       "3        4  Константин   26  Ростов-на-Дону             ultra\n",
       "4        5       Адель   28            Омск             ultra"
      ]
     },
     "execution_count": 6,
     "metadata": {},
     "output_type": "execute_result"
    }
   ],
   "source": [
    "print(users.info())\n",
    "users.head()"
   ]
  },
  {
   "cell_type": "code",
   "execution_count": 7,
   "id": "a27c5433",
   "metadata": {},
   "outputs": [
    {
     "name": "stdout",
     "output_type": "stream",
     "text": [
      "<class 'pandas.core.frame.DataFrame'>\n",
      "RangeIndex: 18068 entries, 0 to 18067\n",
      "Data columns (total 4 columns):\n",
      " #   Column    Non-Null Count  Dtype  \n",
      "---  ------    --------------  -----  \n",
      " 0   user_id   18068 non-null  int64  \n",
      " 1   distance  18068 non-null  float64\n",
      " 2   duration  18068 non-null  float64\n",
      " 3   date      18068 non-null  object \n",
      "dtypes: float64(2), int64(1), object(1)\n",
      "memory usage: 564.8+ KB\n",
      "None\n"
     ]
    },
    {
     "data": {
      "text/html": [
       "<div>\n",
       "<style scoped>\n",
       "    .dataframe tbody tr th:only-of-type {\n",
       "        vertical-align: middle;\n",
       "    }\n",
       "\n",
       "    .dataframe tbody tr th {\n",
       "        vertical-align: top;\n",
       "    }\n",
       "\n",
       "    .dataframe thead th {\n",
       "        text-align: right;\n",
       "    }\n",
       "</style>\n",
       "<table border=\"1\" class=\"dataframe\">\n",
       "  <thead>\n",
       "    <tr style=\"text-align: right;\">\n",
       "      <th></th>\n",
       "      <th>user_id</th>\n",
       "      <th>distance</th>\n",
       "      <th>duration</th>\n",
       "      <th>date</th>\n",
       "    </tr>\n",
       "  </thead>\n",
       "  <tbody>\n",
       "    <tr>\n",
       "      <th>0</th>\n",
       "      <td>1</td>\n",
       "      <td>4409.919140</td>\n",
       "      <td>25.599769</td>\n",
       "      <td>2021-01-01</td>\n",
       "    </tr>\n",
       "    <tr>\n",
       "      <th>1</th>\n",
       "      <td>1</td>\n",
       "      <td>2617.592153</td>\n",
       "      <td>15.816871</td>\n",
       "      <td>2021-01-18</td>\n",
       "    </tr>\n",
       "    <tr>\n",
       "      <th>2</th>\n",
       "      <td>1</td>\n",
       "      <td>754.159807</td>\n",
       "      <td>6.232113</td>\n",
       "      <td>2021-04-20</td>\n",
       "    </tr>\n",
       "    <tr>\n",
       "      <th>3</th>\n",
       "      <td>1</td>\n",
       "      <td>2694.783254</td>\n",
       "      <td>18.511000</td>\n",
       "      <td>2021-08-11</td>\n",
       "    </tr>\n",
       "    <tr>\n",
       "      <th>4</th>\n",
       "      <td>1</td>\n",
       "      <td>4028.687306</td>\n",
       "      <td>26.265803</td>\n",
       "      <td>2021-08-28</td>\n",
       "    </tr>\n",
       "  </tbody>\n",
       "</table>\n",
       "</div>"
      ],
      "text/plain": [
       "   user_id     distance   duration        date\n",
       "0        1  4409.919140  25.599769  2021-01-01\n",
       "1        1  2617.592153  15.816871  2021-01-18\n",
       "2        1   754.159807   6.232113  2021-04-20\n",
       "3        1  2694.783254  18.511000  2021-08-11\n",
       "4        1  4028.687306  26.265803  2021-08-28"
      ]
     },
     "execution_count": 7,
     "metadata": {},
     "output_type": "execute_result"
    }
   ],
   "source": [
    "print(rides.info())\n",
    "rides.head()"
   ]
  },
  {
   "cell_type": "code",
   "execution_count": 8,
   "id": "8b89ee53",
   "metadata": {},
   "outputs": [
    {
     "name": "stdout",
     "output_type": "stream",
     "text": [
      "<class 'pandas.core.frame.DataFrame'>\n",
      "RangeIndex: 2 entries, 0 to 1\n",
      "Data columns (total 4 columns):\n",
      " #   Column             Non-Null Count  Dtype \n",
      "---  ------             --------------  ----- \n",
      " 0   subscription_type  2 non-null      object\n",
      " 1   minute_price       2 non-null      int64 \n",
      " 2   start_ride_price   2 non-null      int64 \n",
      " 3   subscription_fee   2 non-null      int64 \n",
      "dtypes: int64(3), object(1)\n",
      "memory usage: 192.0+ bytes\n",
      "None\n"
     ]
    },
    {
     "data": {
      "text/html": [
       "<div>\n",
       "<style scoped>\n",
       "    .dataframe tbody tr th:only-of-type {\n",
       "        vertical-align: middle;\n",
       "    }\n",
       "\n",
       "    .dataframe tbody tr th {\n",
       "        vertical-align: top;\n",
       "    }\n",
       "\n",
       "    .dataframe thead th {\n",
       "        text-align: right;\n",
       "    }\n",
       "</style>\n",
       "<table border=\"1\" class=\"dataframe\">\n",
       "  <thead>\n",
       "    <tr style=\"text-align: right;\">\n",
       "      <th></th>\n",
       "      <th>subscription_type</th>\n",
       "      <th>minute_price</th>\n",
       "      <th>start_ride_price</th>\n",
       "      <th>subscription_fee</th>\n",
       "    </tr>\n",
       "  </thead>\n",
       "  <tbody>\n",
       "    <tr>\n",
       "      <th>0</th>\n",
       "      <td>free</td>\n",
       "      <td>8</td>\n",
       "      <td>50</td>\n",
       "      <td>0</td>\n",
       "    </tr>\n",
       "    <tr>\n",
       "      <th>1</th>\n",
       "      <td>ultra</td>\n",
       "      <td>6</td>\n",
       "      <td>0</td>\n",
       "      <td>199</td>\n",
       "    </tr>\n",
       "  </tbody>\n",
       "</table>\n",
       "</div>"
      ],
      "text/plain": [
       "  subscription_type  minute_price  start_ride_price  subscription_fee\n",
       "0              free             8                50                 0\n",
       "1             ultra             6                 0               199"
      ]
     },
     "execution_count": 8,
     "metadata": {},
     "output_type": "execute_result"
    }
   ],
   "source": [
    "print(subscriptions.info())\n",
    "subscriptions.head(5)"
   ]
  },
  {
   "cell_type": "markdown",
   "id": "9f06f508",
   "metadata": {},
   "source": [
    "<div style=\"background-color:lavender; color:#black; text-align:center; padding:2%\">\n",
    "    \n",
    "**Виктория:** ✔️ Промежуточный вывод: нами были получены три датафрейма с данными по пользователям и услугам по самокатам. Датафрейм с данными о пользователях 'users', о данных по поездкам 'rides' и о подписках 'subscriptions'. Названия столбцов выглядят \"адекватно\" и по ним понятно, какие данные были предоствлены, поэтому можно оставить, как есть"
   ]
  },
  {
   "cell_type": "markdown",
   "id": "e95ebca7",
   "metadata": {},
   "source": [
    "# Шаг 2. Предобработка данных"
   ]
  },
  {
   "cell_type": "code",
   "execution_count": 9,
   "id": "af6d202c",
   "metadata": {},
   "outputs": [],
   "source": [
    "rides['date'] = pd.to_datetime(rides['date'])"
   ]
  },
  {
   "cell_type": "code",
   "execution_count": 10,
   "id": "4fba10d8",
   "metadata": {},
   "outputs": [],
   "source": [
    "rides['month'] = rides['date'].dt.month"
   ]
  },
  {
   "cell_type": "markdown",
   "id": "e8d94595",
   "metadata": {},
   "source": [
    "<div style=\"background-color:lavender; color:#black; text-align:center; padding:2%\">\n",
    "    \n",
    "**Виктория:** ✔️ Добавила столбец с указанием года, чтобы проверить данные. По коду вижу, что в таблице данные только за 2021 год"
   ]
  },
  {
   "cell_type": "code",
   "execution_count": 11,
   "id": "3ec1d80d",
   "metadata": {},
   "outputs": [
    {
     "data": {
      "text/plain": [
       "2021    18068\n",
       "Name: year, dtype: int64"
      ]
     },
     "execution_count": 11,
     "metadata": {},
     "output_type": "execute_result"
    }
   ],
   "source": [
    "rides['year'] = rides['date'].dt.year\n",
    "rides['year'].value_counts()"
   ]
  },
  {
   "cell_type": "markdown",
   "id": "162ae302",
   "metadata": {},
   "source": [
    "## Обработка пропущенных значений"
   ]
  },
  {
   "cell_type": "code",
   "execution_count": 12,
   "id": "84261977",
   "metadata": {},
   "outputs": [
    {
     "data": {
      "text/plain": [
       "user_id              0\n",
       "name                 0\n",
       "age                  0\n",
       "city                 0\n",
       "subscription_type    0\n",
       "dtype: int64"
      ]
     },
     "execution_count": 12,
     "metadata": {},
     "output_type": "execute_result"
    }
   ],
   "source": [
    "users.isna().sum()"
   ]
  },
  {
   "cell_type": "code",
   "execution_count": 13,
   "id": "274412b8",
   "metadata": {},
   "outputs": [
    {
     "data": {
      "text/plain": [
       "user_id     0\n",
       "distance    0\n",
       "duration    0\n",
       "date        0\n",
       "month       0\n",
       "year        0\n",
       "dtype: int64"
      ]
     },
     "execution_count": 13,
     "metadata": {},
     "output_type": "execute_result"
    }
   ],
   "source": [
    "rides.isna().sum()"
   ]
  },
  {
   "cell_type": "code",
   "execution_count": 14,
   "id": "d78d081a",
   "metadata": {},
   "outputs": [
    {
     "data": {
      "text/plain": [
       "subscription_type    0\n",
       "minute_price         0\n",
       "start_ride_price     0\n",
       "subscription_fee     0\n",
       "dtype: int64"
      ]
     },
     "execution_count": 14,
     "metadata": {},
     "output_type": "execute_result"
    }
   ],
   "source": [
    "subscriptions.isna().sum()"
   ]
  },
  {
   "cell_type": "markdown",
   "id": "220c3a51",
   "metadata": {},
   "source": [
    "</font><font color='Blue'><b>По коду видно, что пропущенных значений нет, значит, можно перейти к анализу данных дальше </b></font><br>"
   ]
  },
  {
   "cell_type": "markdown",
   "id": "f1a71dbb",
   "metadata": {},
   "source": [
    "## Проверка дубликатов"
   ]
  },
  {
   "cell_type": "markdown",
   "id": "ebc22886",
   "metadata": {},
   "source": [
    "<div style=\"background-color:lavender; color:#black; text-align:center; padding:2%\">\n",
    "    \n",
    "**Виктория:** ✔️ Проверила на дубликаты: в таблицах rides и subscriptions дубликатов нет. Дубликаты из таблицы users решила удалить"
   ]
  },
  {
   "cell_type": "code",
   "execution_count": 15,
   "id": "0d179a73",
   "metadata": {},
   "outputs": [
    {
     "name": "stdout",
     "output_type": "stream",
     "text": [
      "31\n"
     ]
    }
   ],
   "source": [
    "#проверяю, считаю и смотрю на строки с дубликатами\n",
    "\n",
    "users.duplicated().sum()\n",
    "duplicates = users[users.duplicated()]\n",
    "print(len(duplicates))\n",
    "\n",
    "#удаляю дубликаты\n",
    "\n",
    "users.drop_duplicates(inplace=True)"
   ]
  },
  {
   "cell_type": "code",
   "execution_count": 16,
   "id": "6f14c4e3",
   "metadata": {},
   "outputs": [
    {
     "data": {
      "text/plain": [
       "0"
      ]
     },
     "execution_count": 16,
     "metadata": {},
     "output_type": "execute_result"
    }
   ],
   "source": [
    "rides.duplicated().sum()"
   ]
  },
  {
   "cell_type": "code",
   "execution_count": 17,
   "id": "39e592e8",
   "metadata": {},
   "outputs": [
    {
     "data": {
      "text/plain": [
       "0"
      ]
     },
     "execution_count": 17,
     "metadata": {},
     "output_type": "execute_result"
    }
   ],
   "source": [
    "subscriptions.duplicated().sum()"
   ]
  },
  {
   "cell_type": "markdown",
   "id": "212593c7",
   "metadata": {},
   "source": [
    "# Шаг 3. Исследовательский анализ данных"
   ]
  },
  {
   "cell_type": "code",
   "execution_count": 18,
   "id": "6ec3780a",
   "metadata": {},
   "outputs": [
    {
     "data": {
      "image/png": "[encoded data removed]",
      "text/plain": [
       "<Figure size 864x504 with 1 Axes>"
      ]
     },
     "metadata": {
      "needs_background": "light"
     },
     "output_type": "display_data"
    }
   ],
   "source": [
    "#визуализируем общую информацию о частоте встречаемости городов\n",
    "\n",
    "city_counts = users['city'].value_counts()\n",
    "cities = city_counts.index\n",
    "counts = city_counts.values\n",
    "plt.figure(figsize=(12,7))\n",
    "plt.bar(cities, counts)\n",
    "plt.xticks(rotation=30)\n",
    "plt.title('Частота встречаемости городов')\n",
    "plt.grid(True)\n",
    "plt.yticks(range(0, max(counts)+1, 20))\n",
    "\n",
    "plt.show()"
   ]
  },
  {
   "cell_type": "markdown",
   "id": "fd5df076",
   "metadata": {},
   "source": [
    "</font><font color='Blue'><b>На графике видно, что больше всего пользователей в Пятигорске, а меньше всего в Москве </b></font><br>"
   ]
  },
  {
   "cell_type": "code",
   "execution_count": 19,
   "id": "c048c9b2",
   "metadata": {},
   "outputs": [
    {
     "data": {
      "image/png": "[encoded data removed]",
      "text/plain": [
       "<Figure size 864x432 with 1 Axes>"
      ]
     },
     "metadata": {},
     "output_type": "display_data"
    }
   ],
   "source": [
    "#визуализируем общую информацию о cоотношении частоты встречаемости городов\n",
    "\n",
    "city_counts = users['city'].value_counts().plot(kind='pie',\n",
    "                                                figsize=(12,6),\n",
    "                                                autopct='%1.1f%%',\n",
    "                                                title='Соотношение частоты встречаемости городов')"
   ]
  },
  {
   "cell_type": "code",
   "execution_count": 20,
   "id": "058f01c5",
   "metadata": {},
   "outputs": [
    {
     "data": {
      "text/plain": [
       "free     835\n",
       "ultra    699\n",
       "Name: subscription_type, dtype: int64"
      ]
     },
     "execution_count": 20,
     "metadata": {},
     "output_type": "execute_result"
    }
   ],
   "source": [
    "users['subscription_type'].value_counts()"
   ]
  },
  {
   "cell_type": "code",
   "execution_count": 21,
   "id": "f305ad60",
   "metadata": {},
   "outputs": [
    {
     "data": {
      "image/png": "[encoded data removed]",
      "text/plain": [
       "<Figure size 864x432 with 1 Axes>"
      ]
     },
     "metadata": {},
     "output_type": "display_data"
    }
   ],
   "source": [
    "#визуализируем общую информацию о соотношении пользователей с подпиской и без подписки\n",
    "\n",
    "subscription_type_counts = users['subscription_type'].value_counts()\n",
    "labels=['Без подписки', 'С подпиской']\n",
    "\n",
    "counts = subscription_type_counts.values\n",
    "plt.figure(figsize=(12,6))\n",
    "plt.pie(counts, labels=labels, autopct='%1.1f%%')\n",
    "plt.title('Соотношение пользователей с подпиской и без')\n",
    "\n",
    "plt.show()"
   ]
  },
  {
   "cell_type": "markdown",
   "id": "1278300c",
   "metadata": {},
   "source": [
    "</font><font color='Blue'><b>На графике видно, что пользователей без подписки немного меньше, чем пользователей с подпиской </b></font><br>"
   ]
  },
  {
   "cell_type": "code",
   "execution_count": 22,
   "id": "e749a59a",
   "metadata": {},
   "outputs": [
    {
     "data": {
      "image/png": "[encoded data removed]",
      "text/plain": [
       "<Figure size 864x504 with 1 Axes>"
      ]
     },
     "metadata": {
      "needs_background": "light"
     },
     "output_type": "display_data"
    }
   ],
   "source": [
    "#визуализируем общую информацию о возрасте пользователей\n",
    "\n",
    "age_counts = users['age'].value_counts()\n",
    "ages = age_counts.index\n",
    "counts = age_counts.values\n",
    "plt.figure(figsize=(12,7))\n",
    "plt.bar(ages, counts)\n",
    "plt.xticks(rotation=30)\n",
    "plt.title('Возраст пользователей')\n",
    "plt.grid(True, alpha=0.3)\n",
    "plt.xticks(range(12,43,2))\n",
    "plt.yticks(range(0, max(counts)+1, 20))\n",
    "\n",
    "plt.show()"
   ]
  },
  {
   "cell_type": "markdown",
   "id": "52e779a0",
   "metadata": {},
   "source": [
    "</font><font color='Blue'><b>Больше всего пользователей самокатов в возрасте от 22 до 28, а \"пик\" мы можем наблюдать у пользователей, кому 25 лет </b></font><br>"
   ]
  },
  {
   "cell_type": "code",
   "execution_count": 23,
   "id": "43ef4119",
   "metadata": {},
   "outputs": [
    {
     "data": {
      "text/plain": [
       "7211.007744598519"
      ]
     },
     "execution_count": 23,
     "metadata": {},
     "output_type": "execute_result"
    }
   ],
   "source": [
    "rides['distance'].max()"
   ]
  },
  {
   "cell_type": "code",
   "execution_count": 24,
   "id": "62282325",
   "metadata": {},
   "outputs": [
    {
     "data": {
      "image/png": "[encoded data removed]",
      "text/plain": [
       "<Figure size 1440x720 with 1 Axes>"
      ]
     },
     "metadata": {
      "needs_background": "light"
     },
     "output_type": "display_data"
    }
   ],
   "source": [
    "#визуализируем общую информацию о расстоянии, которое пользователь преодолел за одну поездку\n",
    "\n",
    "\n",
    "distance_counts = rides['distance'].hist(bins=200, range=(0,7250), figsize=(20,10))\n",
    "distance_counts.set_xlabel('Расстояние в метрах')\n",
    "distance_counts.set_ylabel('Частота')\n",
    "distance_counts.set_xticks(range(0,7250,300))\n",
    "distance_counts.set_title('Расстояние за одну поездку');"
   ]
  },
  {
   "cell_type": "markdown",
   "id": "955f61d9",
   "metadata": {},
   "source": [
    "</font><font color='Blue'><b>По графику и по коду видно, что самое большое расстояние, которое проезжали самокатом - чуть больше 7.2 км! Но обычно ездят около 3 км, то есть 3000 метров</b></font><br>"
   ]
  },
  {
   "cell_type": "code",
   "execution_count": 25,
   "id": "c153d0b3",
   "metadata": {},
   "outputs": [
    {
     "name": "stdout",
     "output_type": "stream",
     "text": [
      "0.5\n"
     ]
    },
    {
     "data": {
      "text/plain": [
       "40.82396261922424"
      ]
     },
     "execution_count": 25,
     "metadata": {},
     "output_type": "execute_result"
    }
   ],
   "source": [
    "print(rides['duration'].min())\n",
    "rides['duration'].max()"
   ]
  },
  {
   "cell_type": "code",
   "execution_count": 26,
   "id": "3455e47a",
   "metadata": {},
   "outputs": [
    {
     "data": {
      "image/png": "[encoded data removed]",
      "text/plain": [
       "<Figure size 1080x504 with 1 Axes>"
      ]
     },
     "metadata": {
      "needs_background": "light"
     },
     "output_type": "display_data"
    }
   ],
   "source": [
    "#визуализируем общую информацию о продолжительности поездок\n",
    "rides['duration'].value_counts()\n",
    "\n",
    "duration_counts = rides['duration'].hist(bins=20, range=(0.5,40), figsize=(15,7))\n",
    "duration_counts.set_xlabel('Продолжительность')\n",
    "duration_counts.set_ylabel('Частота')\n",
    "duration_counts.set_xticks(range(0,40,1))\n",
    "duration_counts.set_title('Продолжительность поездок');"
   ]
  },
  {
   "cell_type": "code",
   "execution_count": 27,
   "id": "92e5710a",
   "metadata": {},
   "outputs": [
    {
     "data": {
      "text/plain": [
       "17.80501119798444"
      ]
     },
     "execution_count": 27,
     "metadata": {},
     "output_type": "execute_result"
    }
   ],
   "source": [
    "rides['duration'].mean()"
   ]
  },
  {
   "cell_type": "markdown",
   "id": "262ee927",
   "metadata": {},
   "source": [
    "</font><font color='Blue'><b>По графику и по коду видно, в среднем продолжительность поездки на самокате равняется 17 минутам. Зная, что, в среднем люди ездят 3000 метров и 17 минут по продолжительности, то можно высчитать примерную среднюю скорость, с которой они ездят - это около 176 м/мин, что значит 10 км/ч\n",
    "\n",
    "В ПДД прописаны ограничения для скорости самокатов — не более 25 км/ч</b></font><br>"
   ]
  },
  {
   "cell_type": "markdown",
   "id": "4ef51331",
   "metadata": {},
   "source": [
    "# Шаг 4. Объединение данных"
   ]
  },
  {
   "cell_type": "code",
   "execution_count": 28,
   "id": "06fc4089",
   "metadata": {},
   "outputs": [],
   "source": [
    "#объединяю все изначальные таблицы\n",
    "df = users.merge(rides, on='user_id')"
   ]
  },
  {
   "cell_type": "code",
   "execution_count": 29,
   "id": "2880f453",
   "metadata": {},
   "outputs": [],
   "source": [
    "df = df.merge(subscriptions, on='subscription_type')"
   ]
  },
  {
   "cell_type": "code",
   "execution_count": 30,
   "id": "f8801ee5",
   "metadata": {},
   "outputs": [
    {
     "data": {
      "text/html": [
       "<div>\n",
       "<style scoped>\n",
       "    .dataframe tbody tr th:only-of-type {\n",
       "        vertical-align: middle;\n",
       "    }\n",
       "\n",
       "    .dataframe tbody tr th {\n",
       "        vertical-align: top;\n",
       "    }\n",
       "\n",
       "    .dataframe thead th {\n",
       "        text-align: right;\n",
       "    }\n",
       "</style>\n",
       "<table border=\"1\" class=\"dataframe\">\n",
       "  <thead>\n",
       "    <tr style=\"text-align: right;\">\n",
       "      <th></th>\n",
       "      <th>user_id</th>\n",
       "      <th>name</th>\n",
       "      <th>age</th>\n",
       "      <th>city</th>\n",
       "      <th>subscription_type</th>\n",
       "      <th>distance</th>\n",
       "      <th>duration</th>\n",
       "      <th>date</th>\n",
       "      <th>month</th>\n",
       "      <th>year</th>\n",
       "      <th>minute_price</th>\n",
       "      <th>start_ride_price</th>\n",
       "      <th>subscription_fee</th>\n",
       "    </tr>\n",
       "  </thead>\n",
       "  <tbody>\n",
       "    <tr>\n",
       "      <th>0</th>\n",
       "      <td>1</td>\n",
       "      <td>Кира</td>\n",
       "      <td>22</td>\n",
       "      <td>Тюмень</td>\n",
       "      <td>ultra</td>\n",
       "      <td>4409.919140</td>\n",
       "      <td>25.599769</td>\n",
       "      <td>2021-01-01</td>\n",
       "      <td>1</td>\n",
       "      <td>2021</td>\n",
       "      <td>6</td>\n",
       "      <td>0</td>\n",
       "      <td>199</td>\n",
       "    </tr>\n",
       "    <tr>\n",
       "      <th>1</th>\n",
       "      <td>1</td>\n",
       "      <td>Кира</td>\n",
       "      <td>22</td>\n",
       "      <td>Тюмень</td>\n",
       "      <td>ultra</td>\n",
       "      <td>2617.592153</td>\n",
       "      <td>15.816871</td>\n",
       "      <td>2021-01-18</td>\n",
       "      <td>1</td>\n",
       "      <td>2021</td>\n",
       "      <td>6</td>\n",
       "      <td>0</td>\n",
       "      <td>199</td>\n",
       "    </tr>\n",
       "    <tr>\n",
       "      <th>2</th>\n",
       "      <td>1</td>\n",
       "      <td>Кира</td>\n",
       "      <td>22</td>\n",
       "      <td>Тюмень</td>\n",
       "      <td>ultra</td>\n",
       "      <td>754.159807</td>\n",
       "      <td>6.232113</td>\n",
       "      <td>2021-04-20</td>\n",
       "      <td>4</td>\n",
       "      <td>2021</td>\n",
       "      <td>6</td>\n",
       "      <td>0</td>\n",
       "      <td>199</td>\n",
       "    </tr>\n",
       "    <tr>\n",
       "      <th>3</th>\n",
       "      <td>1</td>\n",
       "      <td>Кира</td>\n",
       "      <td>22</td>\n",
       "      <td>Тюмень</td>\n",
       "      <td>ultra</td>\n",
       "      <td>2694.783254</td>\n",
       "      <td>18.511000</td>\n",
       "      <td>2021-08-11</td>\n",
       "      <td>8</td>\n",
       "      <td>2021</td>\n",
       "      <td>6</td>\n",
       "      <td>0</td>\n",
       "      <td>199</td>\n",
       "    </tr>\n",
       "    <tr>\n",
       "      <th>4</th>\n",
       "      <td>1</td>\n",
       "      <td>Кира</td>\n",
       "      <td>22</td>\n",
       "      <td>Тюмень</td>\n",
       "      <td>ultra</td>\n",
       "      <td>4028.687306</td>\n",
       "      <td>26.265803</td>\n",
       "      <td>2021-08-28</td>\n",
       "      <td>8</td>\n",
       "      <td>2021</td>\n",
       "      <td>6</td>\n",
       "      <td>0</td>\n",
       "      <td>199</td>\n",
       "    </tr>\n",
       "    <tr>\n",
       "      <th>...</th>\n",
       "      <td>...</td>\n",
       "      <td>...</td>\n",
       "      <td>...</td>\n",
       "      <td>...</td>\n",
       "      <td>...</td>\n",
       "      <td>...</td>\n",
       "      <td>...</td>\n",
       "      <td>...</td>\n",
       "      <td>...</td>\n",
       "      <td>...</td>\n",
       "      <td>...</td>\n",
       "      <td>...</td>\n",
       "      <td>...</td>\n",
       "    </tr>\n",
       "    <tr>\n",
       "      <th>18063</th>\n",
       "      <td>1534</td>\n",
       "      <td>Альберт</td>\n",
       "      <td>25</td>\n",
       "      <td>Краснодар</td>\n",
       "      <td>free</td>\n",
       "      <td>3781.098080</td>\n",
       "      <td>19.822962</td>\n",
       "      <td>2021-11-04</td>\n",
       "      <td>11</td>\n",
       "      <td>2021</td>\n",
       "      <td>8</td>\n",
       "      <td>50</td>\n",
       "      <td>0</td>\n",
       "    </tr>\n",
       "    <tr>\n",
       "      <th>18064</th>\n",
       "      <td>1534</td>\n",
       "      <td>Альберт</td>\n",
       "      <td>25</td>\n",
       "      <td>Краснодар</td>\n",
       "      <td>free</td>\n",
       "      <td>2840.423057</td>\n",
       "      <td>21.409799</td>\n",
       "      <td>2021-11-16</td>\n",
       "      <td>11</td>\n",
       "      <td>2021</td>\n",
       "      <td>8</td>\n",
       "      <td>50</td>\n",
       "      <td>0</td>\n",
       "    </tr>\n",
       "    <tr>\n",
       "      <th>18065</th>\n",
       "      <td>1534</td>\n",
       "      <td>Альберт</td>\n",
       "      <td>25</td>\n",
       "      <td>Краснодар</td>\n",
       "      <td>free</td>\n",
       "      <td>3826.185507</td>\n",
       "      <td>18.435051</td>\n",
       "      <td>2021-11-18</td>\n",
       "      <td>11</td>\n",
       "      <td>2021</td>\n",
       "      <td>8</td>\n",
       "      <td>50</td>\n",
       "      <td>0</td>\n",
       "    </tr>\n",
       "    <tr>\n",
       "      <th>18066</th>\n",
       "      <td>1534</td>\n",
       "      <td>Альберт</td>\n",
       "      <td>25</td>\n",
       "      <td>Краснодар</td>\n",
       "      <td>free</td>\n",
       "      <td>2902.308661</td>\n",
       "      <td>16.674362</td>\n",
       "      <td>2021-11-27</td>\n",
       "      <td>11</td>\n",
       "      <td>2021</td>\n",
       "      <td>8</td>\n",
       "      <td>50</td>\n",
       "      <td>0</td>\n",
       "    </tr>\n",
       "    <tr>\n",
       "      <th>18067</th>\n",
       "      <td>1534</td>\n",
       "      <td>Альберт</td>\n",
       "      <td>25</td>\n",
       "      <td>Краснодар</td>\n",
       "      <td>free</td>\n",
       "      <td>2371.711192</td>\n",
       "      <td>15.893917</td>\n",
       "      <td>2021-12-29</td>\n",
       "      <td>12</td>\n",
       "      <td>2021</td>\n",
       "      <td>8</td>\n",
       "      <td>50</td>\n",
       "      <td>0</td>\n",
       "    </tr>\n",
       "  </tbody>\n",
       "</table>\n",
       "<p>18068 rows × 13 columns</p>\n",
       "</div>"
      ],
      "text/plain": [
       "       user_id     name  age       city subscription_type     distance  \\\n",
       "0            1     Кира   22     Тюмень             ultra  4409.919140   \n",
       "1            1     Кира   22     Тюмень             ultra  2617.592153   \n",
       "2            1     Кира   22     Тюмень             ultra   754.159807   \n",
       "3            1     Кира   22     Тюмень             ultra  2694.783254   \n",
       "4            1     Кира   22     Тюмень             ultra  4028.687306   \n",
       "...        ...      ...  ...        ...               ...          ...   \n",
       "18063     1534  Альберт   25  Краснодар              free  3781.098080   \n",
       "18064     1534  Альберт   25  Краснодар              free  2840.423057   \n",
       "18065     1534  Альберт   25  Краснодар              free  3826.185507   \n",
       "18066     1534  Альберт   25  Краснодар              free  2902.308661   \n",
       "18067     1534  Альберт   25  Краснодар              free  2371.711192   \n",
       "\n",
       "        duration       date  month  year  minute_price  start_ride_price  \\\n",
       "0      25.599769 2021-01-01      1  2021             6                 0   \n",
       "1      15.816871 2021-01-18      1  2021             6                 0   \n",
       "2       6.232113 2021-04-20      4  2021             6                 0   \n",
       "3      18.511000 2021-08-11      8  2021             6                 0   \n",
       "4      26.265803 2021-08-28      8  2021             6                 0   \n",
       "...          ...        ...    ...   ...           ...               ...   \n",
       "18063  19.822962 2021-11-04     11  2021             8                50   \n",
       "18064  21.409799 2021-11-16     11  2021             8                50   \n",
       "18065  18.435051 2021-11-18     11  2021             8                50   \n",
       "18066  16.674362 2021-11-27     11  2021             8                50   \n",
       "18067  15.893917 2021-12-29     12  2021             8                50   \n",
       "\n",
       "       subscription_fee  \n",
       "0                   199  \n",
       "1                   199  \n",
       "2                   199  \n",
       "3                   199  \n",
       "4                   199  \n",
       "...                 ...  \n",
       "18063                 0  \n",
       "18064                 0  \n",
       "18065                 0  \n",
       "18066                 0  \n",
       "18067                 0  \n",
       "\n",
       "[18068 rows x 13 columns]"
      ]
     },
     "execution_count": 30,
     "metadata": {},
     "output_type": "execute_result"
    }
   ],
   "source": [
    "df"
   ]
  },
  {
   "cell_type": "code",
   "execution_count": 31,
   "id": "43eacc5d",
   "metadata": {},
   "outputs": [
    {
     "data": {
      "text/html": [
       "<div>\n",
       "<style scoped>\n",
       "    .dataframe tbody tr th:only-of-type {\n",
       "        vertical-align: middle;\n",
       "    }\n",
       "\n",
       "    .dataframe tbody tr th {\n",
       "        vertical-align: top;\n",
       "    }\n",
       "\n",
       "    .dataframe thead th {\n",
       "        text-align: right;\n",
       "    }\n",
       "</style>\n",
       "<table border=\"1\" class=\"dataframe\">\n",
       "  <thead>\n",
       "    <tr style=\"text-align: right;\">\n",
       "      <th></th>\n",
       "      <th>user_id</th>\n",
       "      <th>name</th>\n",
       "      <th>age</th>\n",
       "      <th>city</th>\n",
       "      <th>subscription_type</th>\n",
       "      <th>distance</th>\n",
       "      <th>duration</th>\n",
       "      <th>date</th>\n",
       "      <th>month</th>\n",
       "      <th>year</th>\n",
       "      <th>minute_price</th>\n",
       "      <th>start_ride_price</th>\n",
       "      <th>subscription_fee</th>\n",
       "    </tr>\n",
       "  </thead>\n",
       "  <tbody>\n",
       "    <tr>\n",
       "      <th>6500</th>\n",
       "      <td>700</td>\n",
       "      <td>Айдар</td>\n",
       "      <td>22</td>\n",
       "      <td>Омск</td>\n",
       "      <td>free</td>\n",
       "      <td>2515.690719</td>\n",
       "      <td>14.944286</td>\n",
       "      <td>2021-01-02</td>\n",
       "      <td>1</td>\n",
       "      <td>2021</td>\n",
       "      <td>8</td>\n",
       "      <td>50</td>\n",
       "      <td>0</td>\n",
       "    </tr>\n",
       "    <tr>\n",
       "      <th>6501</th>\n",
       "      <td>700</td>\n",
       "      <td>Айдар</td>\n",
       "      <td>22</td>\n",
       "      <td>Омск</td>\n",
       "      <td>free</td>\n",
       "      <td>846.932642</td>\n",
       "      <td>16.234663</td>\n",
       "      <td>2021-02-01</td>\n",
       "      <td>2</td>\n",
       "      <td>2021</td>\n",
       "      <td>8</td>\n",
       "      <td>50</td>\n",
       "      <td>0</td>\n",
       "    </tr>\n",
       "    <tr>\n",
       "      <th>6502</th>\n",
       "      <td>700</td>\n",
       "      <td>Айдар</td>\n",
       "      <td>22</td>\n",
       "      <td>Омск</td>\n",
       "      <td>free</td>\n",
       "      <td>4004.434142</td>\n",
       "      <td>20.016628</td>\n",
       "      <td>2021-02-04</td>\n",
       "      <td>2</td>\n",
       "      <td>2021</td>\n",
       "      <td>8</td>\n",
       "      <td>50</td>\n",
       "      <td>0</td>\n",
       "    </tr>\n",
       "    <tr>\n",
       "      <th>6503</th>\n",
       "      <td>700</td>\n",
       "      <td>Айдар</td>\n",
       "      <td>22</td>\n",
       "      <td>Омск</td>\n",
       "      <td>free</td>\n",
       "      <td>1205.911290</td>\n",
       "      <td>9.782872</td>\n",
       "      <td>2021-02-10</td>\n",
       "      <td>2</td>\n",
       "      <td>2021</td>\n",
       "      <td>8</td>\n",
       "      <td>50</td>\n",
       "      <td>0</td>\n",
       "    </tr>\n",
       "    <tr>\n",
       "      <th>6504</th>\n",
       "      <td>700</td>\n",
       "      <td>Айдар</td>\n",
       "      <td>22</td>\n",
       "      <td>Омск</td>\n",
       "      <td>free</td>\n",
       "      <td>3047.379435</td>\n",
       "      <td>17.427673</td>\n",
       "      <td>2021-02-14</td>\n",
       "      <td>2</td>\n",
       "      <td>2021</td>\n",
       "      <td>8</td>\n",
       "      <td>50</td>\n",
       "      <td>0</td>\n",
       "    </tr>\n",
       "    <tr>\n",
       "      <th>...</th>\n",
       "      <td>...</td>\n",
       "      <td>...</td>\n",
       "      <td>...</td>\n",
       "      <td>...</td>\n",
       "      <td>...</td>\n",
       "      <td>...</td>\n",
       "      <td>...</td>\n",
       "      <td>...</td>\n",
       "      <td>...</td>\n",
       "      <td>...</td>\n",
       "      <td>...</td>\n",
       "      <td>...</td>\n",
       "      <td>...</td>\n",
       "    </tr>\n",
       "    <tr>\n",
       "      <th>18063</th>\n",
       "      <td>1534</td>\n",
       "      <td>Альберт</td>\n",
       "      <td>25</td>\n",
       "      <td>Краснодар</td>\n",
       "      <td>free</td>\n",
       "      <td>3781.098080</td>\n",
       "      <td>19.822962</td>\n",
       "      <td>2021-11-04</td>\n",
       "      <td>11</td>\n",
       "      <td>2021</td>\n",
       "      <td>8</td>\n",
       "      <td>50</td>\n",
       "      <td>0</td>\n",
       "    </tr>\n",
       "    <tr>\n",
       "      <th>18064</th>\n",
       "      <td>1534</td>\n",
       "      <td>Альберт</td>\n",
       "      <td>25</td>\n",
       "      <td>Краснодар</td>\n",
       "      <td>free</td>\n",
       "      <td>2840.423057</td>\n",
       "      <td>21.409799</td>\n",
       "      <td>2021-11-16</td>\n",
       "      <td>11</td>\n",
       "      <td>2021</td>\n",
       "      <td>8</td>\n",
       "      <td>50</td>\n",
       "      <td>0</td>\n",
       "    </tr>\n",
       "    <tr>\n",
       "      <th>18065</th>\n",
       "      <td>1534</td>\n",
       "      <td>Альберт</td>\n",
       "      <td>25</td>\n",
       "      <td>Краснодар</td>\n",
       "      <td>free</td>\n",
       "      <td>3826.185507</td>\n",
       "      <td>18.435051</td>\n",
       "      <td>2021-11-18</td>\n",
       "      <td>11</td>\n",
       "      <td>2021</td>\n",
       "      <td>8</td>\n",
       "      <td>50</td>\n",
       "      <td>0</td>\n",
       "    </tr>\n",
       "    <tr>\n",
       "      <th>18066</th>\n",
       "      <td>1534</td>\n",
       "      <td>Альберт</td>\n",
       "      <td>25</td>\n",
       "      <td>Краснодар</td>\n",
       "      <td>free</td>\n",
       "      <td>2902.308661</td>\n",
       "      <td>16.674362</td>\n",
       "      <td>2021-11-27</td>\n",
       "      <td>11</td>\n",
       "      <td>2021</td>\n",
       "      <td>8</td>\n",
       "      <td>50</td>\n",
       "      <td>0</td>\n",
       "    </tr>\n",
       "    <tr>\n",
       "      <th>18067</th>\n",
       "      <td>1534</td>\n",
       "      <td>Альберт</td>\n",
       "      <td>25</td>\n",
       "      <td>Краснодар</td>\n",
       "      <td>free</td>\n",
       "      <td>2371.711192</td>\n",
       "      <td>15.893917</td>\n",
       "      <td>2021-12-29</td>\n",
       "      <td>12</td>\n",
       "      <td>2021</td>\n",
       "      <td>8</td>\n",
       "      <td>50</td>\n",
       "      <td>0</td>\n",
       "    </tr>\n",
       "  </tbody>\n",
       "</table>\n",
       "<p>11568 rows × 13 columns</p>\n",
       "</div>"
      ],
      "text/plain": [
       "       user_id     name  age       city subscription_type     distance  \\\n",
       "6500       700    Айдар   22       Омск              free  2515.690719   \n",
       "6501       700    Айдар   22       Омск              free   846.932642   \n",
       "6502       700    Айдар   22       Омск              free  4004.434142   \n",
       "6503       700    Айдар   22       Омск              free  1205.911290   \n",
       "6504       700    Айдар   22       Омск              free  3047.379435   \n",
       "...        ...      ...  ...        ...               ...          ...   \n",
       "18063     1534  Альберт   25  Краснодар              free  3781.098080   \n",
       "18064     1534  Альберт   25  Краснодар              free  2840.423057   \n",
       "18065     1534  Альберт   25  Краснодар              free  3826.185507   \n",
       "18066     1534  Альберт   25  Краснодар              free  2902.308661   \n",
       "18067     1534  Альберт   25  Краснодар              free  2371.711192   \n",
       "\n",
       "        duration       date  month  year  minute_price  start_ride_price  \\\n",
       "6500   14.944286 2021-01-02      1  2021             8                50   \n",
       "6501   16.234663 2021-02-01      2  2021             8                50   \n",
       "6502   20.016628 2021-02-04      2  2021             8                50   \n",
       "6503    9.782872 2021-02-10      2  2021             8                50   \n",
       "6504   17.427673 2021-02-14      2  2021             8                50   \n",
       "...          ...        ...    ...   ...           ...               ...   \n",
       "18063  19.822962 2021-11-04     11  2021             8                50   \n",
       "18064  21.409799 2021-11-16     11  2021             8                50   \n",
       "18065  18.435051 2021-11-18     11  2021             8                50   \n",
       "18066  16.674362 2021-11-27     11  2021             8                50   \n",
       "18067  15.893917 2021-12-29     12  2021             8                50   \n",
       "\n",
       "       subscription_fee  \n",
       "6500                  0  \n",
       "6501                  0  \n",
       "6502                  0  \n",
       "6503                  0  \n",
       "6504                  0  \n",
       "...                 ...  \n",
       "18063                 0  \n",
       "18064                 0  \n",
       "18065                 0  \n",
       "18066                 0  \n",
       "18067                 0  \n",
       "\n",
       "[11568 rows x 13 columns]"
      ]
     },
     "execution_count": 31,
     "metadata": {},
     "output_type": "execute_result"
    }
   ],
   "source": [
    "#создаю отдельно датафрейм c данными о пользователях без подписки\n",
    "\n",
    "free = df[df['subscription_type'] == 'free'].copy()\n",
    "free"
   ]
  },
  {
   "cell_type": "code",
   "execution_count": 32,
   "id": "115e256e",
   "metadata": {},
   "outputs": [
    {
     "data": {
      "image/png": "[encoded data removed]",
      "text/plain": [
       "<Figure size 1080x504 with 1 Axes>"
      ]
     },
     "metadata": {
      "needs_background": "light"
     },
     "output_type": "display_data"
    }
   ],
   "source": [
    "#визуализируем информацию о расстоянии за одну поездку для пользователей без подписки\n",
    "\n",
    "distance_counts = free['distance'].hist(bins=200, range=(0,7250), figsize=(15,7))\n",
    "distance_counts.set_xlabel('Расстояние в метрах')\n",
    "distance_counts.set_ylabel('Частота')\n",
    "distance_counts.set_xticks(range(0,7250,300))\n",
    "distance_counts.set_title('Расстояние за одну поездку для пользователей без подписки');"
   ]
  },
  {
   "cell_type": "markdown",
   "id": "b9c11393",
   "metadata": {},
   "source": [
    "<div style=\"background-color:lavender; color:#black; text-align:center; padding:2%\">\n",
    "    \n",
    "**Виктория:** ✔️ По графику видно, что с бесплатным тарифом пользователи проезжают от 2 до 4.5 км, есть пользователи, которые проехали даже более 6.5км"
   ]
  },
  {
   "cell_type": "code",
   "execution_count": 33,
   "id": "a2e49f59",
   "metadata": {},
   "outputs": [
    {
     "data": {
      "text/plain": [
       "34.948498234556965"
      ]
     },
     "execution_count": 33,
     "metadata": {},
     "output_type": "execute_result"
    }
   ],
   "source": [
    "free['duration'].max()"
   ]
  },
  {
   "cell_type": "code",
   "execution_count": 34,
   "id": "fce97fd3",
   "metadata": {},
   "outputs": [
    {
     "data": {
      "image/png": "[encoded data removed]",
      "text/plain": [
       "<Figure size 1080x504 with 1 Axes>"
      ]
     },
     "metadata": {
      "needs_background": "light"
     },
     "output_type": "display_data"
    }
   ],
   "source": [
    "#визуализируем информацию о продолжительности поездок для пользователей без подписки\n",
    "\n",
    "free['duration'].value_counts()\n",
    "\n",
    "duration_counts = free['duration'].hist(bins=20, range=(0.5,35), figsize=(15,7))\n",
    "duration_counts.set_xlabel('Продолжительность')\n",
    "duration_counts.set_ylabel('Частота')\n",
    "duration_counts.set_xticks(range(0,35,2))\n",
    "duration_counts.set_title('Продолжительность поездок для пользователей без подписки');"
   ]
  },
  {
   "cell_type": "markdown",
   "id": "cb0c3ca2",
   "metadata": {},
   "source": [
    "<div style=\"background-color:lavender; color:#black; text-align:center; padding:2%\">\n",
    "    \n",
    "**Виктория:** ✔️ По графику видно, что с бесплатным тарифом время поездки пользователей составляет от 10 до 25 минут"
   ]
  },
  {
   "cell_type": "code",
   "execution_count": 35,
   "id": "f0a6624a",
   "metadata": {},
   "outputs": [
    {
     "data": {
      "text/html": [
       "<div>\n",
       "<style scoped>\n",
       "    .dataframe tbody tr th:only-of-type {\n",
       "        vertical-align: middle;\n",
       "    }\n",
       "\n",
       "    .dataframe tbody tr th {\n",
       "        vertical-align: top;\n",
       "    }\n",
       "\n",
       "    .dataframe thead th {\n",
       "        text-align: right;\n",
       "    }\n",
       "</style>\n",
       "<table border=\"1\" class=\"dataframe\">\n",
       "  <thead>\n",
       "    <tr style=\"text-align: right;\">\n",
       "      <th></th>\n",
       "      <th>user_id</th>\n",
       "      <th>name</th>\n",
       "      <th>age</th>\n",
       "      <th>city</th>\n",
       "      <th>subscription_type</th>\n",
       "      <th>distance</th>\n",
       "      <th>duration</th>\n",
       "      <th>date</th>\n",
       "      <th>month</th>\n",
       "      <th>year</th>\n",
       "      <th>minute_price</th>\n",
       "      <th>start_ride_price</th>\n",
       "      <th>subscription_fee</th>\n",
       "    </tr>\n",
       "  </thead>\n",
       "  <tbody>\n",
       "    <tr>\n",
       "      <th>0</th>\n",
       "      <td>1</td>\n",
       "      <td>Кира</td>\n",
       "      <td>22</td>\n",
       "      <td>Тюмень</td>\n",
       "      <td>ultra</td>\n",
       "      <td>4409.919140</td>\n",
       "      <td>25.599769</td>\n",
       "      <td>2021-01-01</td>\n",
       "      <td>1</td>\n",
       "      <td>2021</td>\n",
       "      <td>6</td>\n",
       "      <td>0</td>\n",
       "      <td>199</td>\n",
       "    </tr>\n",
       "    <tr>\n",
       "      <th>1</th>\n",
       "      <td>1</td>\n",
       "      <td>Кира</td>\n",
       "      <td>22</td>\n",
       "      <td>Тюмень</td>\n",
       "      <td>ultra</td>\n",
       "      <td>2617.592153</td>\n",
       "      <td>15.816871</td>\n",
       "      <td>2021-01-18</td>\n",
       "      <td>1</td>\n",
       "      <td>2021</td>\n",
       "      <td>6</td>\n",
       "      <td>0</td>\n",
       "      <td>199</td>\n",
       "    </tr>\n",
       "    <tr>\n",
       "      <th>2</th>\n",
       "      <td>1</td>\n",
       "      <td>Кира</td>\n",
       "      <td>22</td>\n",
       "      <td>Тюмень</td>\n",
       "      <td>ultra</td>\n",
       "      <td>754.159807</td>\n",
       "      <td>6.232113</td>\n",
       "      <td>2021-04-20</td>\n",
       "      <td>4</td>\n",
       "      <td>2021</td>\n",
       "      <td>6</td>\n",
       "      <td>0</td>\n",
       "      <td>199</td>\n",
       "    </tr>\n",
       "    <tr>\n",
       "      <th>3</th>\n",
       "      <td>1</td>\n",
       "      <td>Кира</td>\n",
       "      <td>22</td>\n",
       "      <td>Тюмень</td>\n",
       "      <td>ultra</td>\n",
       "      <td>2694.783254</td>\n",
       "      <td>18.511000</td>\n",
       "      <td>2021-08-11</td>\n",
       "      <td>8</td>\n",
       "      <td>2021</td>\n",
       "      <td>6</td>\n",
       "      <td>0</td>\n",
       "      <td>199</td>\n",
       "    </tr>\n",
       "    <tr>\n",
       "      <th>4</th>\n",
       "      <td>1</td>\n",
       "      <td>Кира</td>\n",
       "      <td>22</td>\n",
       "      <td>Тюмень</td>\n",
       "      <td>ultra</td>\n",
       "      <td>4028.687306</td>\n",
       "      <td>26.265803</td>\n",
       "      <td>2021-08-28</td>\n",
       "      <td>8</td>\n",
       "      <td>2021</td>\n",
       "      <td>6</td>\n",
       "      <td>0</td>\n",
       "      <td>199</td>\n",
       "    </tr>\n",
       "    <tr>\n",
       "      <th>...</th>\n",
       "      <td>...</td>\n",
       "      <td>...</td>\n",
       "      <td>...</td>\n",
       "      <td>...</td>\n",
       "      <td>...</td>\n",
       "      <td>...</td>\n",
       "      <td>...</td>\n",
       "      <td>...</td>\n",
       "      <td>...</td>\n",
       "      <td>...</td>\n",
       "      <td>...</td>\n",
       "      <td>...</td>\n",
       "      <td>...</td>\n",
       "    </tr>\n",
       "    <tr>\n",
       "      <th>6495</th>\n",
       "      <td>699</td>\n",
       "      <td>Оксана</td>\n",
       "      <td>22</td>\n",
       "      <td>Москва</td>\n",
       "      <td>ultra</td>\n",
       "      <td>3973.046497</td>\n",
       "      <td>24.671163</td>\n",
       "      <td>2021-08-29</td>\n",
       "      <td>8</td>\n",
       "      <td>2021</td>\n",
       "      <td>6</td>\n",
       "      <td>0</td>\n",
       "      <td>199</td>\n",
       "    </tr>\n",
       "    <tr>\n",
       "      <th>6496</th>\n",
       "      <td>699</td>\n",
       "      <td>Оксана</td>\n",
       "      <td>22</td>\n",
       "      <td>Москва</td>\n",
       "      <td>ultra</td>\n",
       "      <td>3288.702563</td>\n",
       "      <td>15.892886</td>\n",
       "      <td>2021-09-12</td>\n",
       "      <td>9</td>\n",
       "      <td>2021</td>\n",
       "      <td>6</td>\n",
       "      <td>0</td>\n",
       "      <td>199</td>\n",
       "    </tr>\n",
       "    <tr>\n",
       "      <th>6497</th>\n",
       "      <td>699</td>\n",
       "      <td>Оксана</td>\n",
       "      <td>22</td>\n",
       "      <td>Москва</td>\n",
       "      <td>ultra</td>\n",
       "      <td>3076.159348</td>\n",
       "      <td>14.389525</td>\n",
       "      <td>2021-09-26</td>\n",
       "      <td>9</td>\n",
       "      <td>2021</td>\n",
       "      <td>6</td>\n",
       "      <td>0</td>\n",
       "      <td>199</td>\n",
       "    </tr>\n",
       "    <tr>\n",
       "      <th>6498</th>\n",
       "      <td>699</td>\n",
       "      <td>Оксана</td>\n",
       "      <td>22</td>\n",
       "      <td>Москва</td>\n",
       "      <td>ultra</td>\n",
       "      <td>4707.845501</td>\n",
       "      <td>15.839579</td>\n",
       "      <td>2021-10-17</td>\n",
       "      <td>10</td>\n",
       "      <td>2021</td>\n",
       "      <td>6</td>\n",
       "      <td>0</td>\n",
       "      <td>199</td>\n",
       "    </tr>\n",
       "    <tr>\n",
       "      <th>6499</th>\n",
       "      <td>699</td>\n",
       "      <td>Оксана</td>\n",
       "      <td>22</td>\n",
       "      <td>Москва</td>\n",
       "      <td>ultra</td>\n",
       "      <td>3202.890770</td>\n",
       "      <td>25.217345</td>\n",
       "      <td>2021-12-03</td>\n",
       "      <td>12</td>\n",
       "      <td>2021</td>\n",
       "      <td>6</td>\n",
       "      <td>0</td>\n",
       "      <td>199</td>\n",
       "    </tr>\n",
       "  </tbody>\n",
       "</table>\n",
       "<p>6500 rows × 13 columns</p>\n",
       "</div>"
      ],
      "text/plain": [
       "      user_id    name  age    city subscription_type     distance   duration  \\\n",
       "0           1    Кира   22  Тюмень             ultra  4409.919140  25.599769   \n",
       "1           1    Кира   22  Тюмень             ultra  2617.592153  15.816871   \n",
       "2           1    Кира   22  Тюмень             ultra   754.159807   6.232113   \n",
       "3           1    Кира   22  Тюмень             ultra  2694.783254  18.511000   \n",
       "4           1    Кира   22  Тюмень             ultra  4028.687306  26.265803   \n",
       "...       ...     ...  ...     ...               ...          ...        ...   \n",
       "6495      699  Оксана   22  Москва             ultra  3973.046497  24.671163   \n",
       "6496      699  Оксана   22  Москва             ultra  3288.702563  15.892886   \n",
       "6497      699  Оксана   22  Москва             ultra  3076.159348  14.389525   \n",
       "6498      699  Оксана   22  Москва             ultra  4707.845501  15.839579   \n",
       "6499      699  Оксана   22  Москва             ultra  3202.890770  25.217345   \n",
       "\n",
       "           date  month  year  minute_price  start_ride_price  subscription_fee  \n",
       "0    2021-01-01      1  2021             6                 0               199  \n",
       "1    2021-01-18      1  2021             6                 0               199  \n",
       "2    2021-04-20      4  2021             6                 0               199  \n",
       "3    2021-08-11      8  2021             6                 0               199  \n",
       "4    2021-08-28      8  2021             6                 0               199  \n",
       "...         ...    ...   ...           ...               ...               ...  \n",
       "6495 2021-08-29      8  2021             6                 0               199  \n",
       "6496 2021-09-12      9  2021             6                 0               199  \n",
       "6497 2021-09-26      9  2021             6                 0               199  \n",
       "6498 2021-10-17     10  2021             6                 0               199  \n",
       "6499 2021-12-03     12  2021             6                 0               199  \n",
       "\n",
       "[6500 rows x 13 columns]"
      ]
     },
     "execution_count": 35,
     "metadata": {},
     "output_type": "execute_result"
    }
   ],
   "source": [
    "#создаю отдельно датафрейм  данными о пользователях с подпиской\n",
    "\n",
    "ultra = df[df['subscription_type'] == 'ultra'].copy()\n",
    "ultra"
   ]
  },
  {
   "cell_type": "code",
   "execution_count": 36,
   "id": "7fa6578d",
   "metadata": {},
   "outputs": [
    {
     "data": {
      "text/plain": [
       "5699.769662039453"
      ]
     },
     "execution_count": 36,
     "metadata": {},
     "output_type": "execute_result"
    }
   ],
   "source": [
    "ultra['distance'].max()"
   ]
  },
  {
   "cell_type": "code",
   "execution_count": 37,
   "id": "8676d3ab",
   "metadata": {},
   "outputs": [
    {
     "data": {
      "text/plain": [
       "244.21043833522924"
      ]
     },
     "execution_count": 37,
     "metadata": {},
     "output_type": "execute_result"
    }
   ],
   "source": [
    "ultra['distance'].min()"
   ]
  },
  {
   "cell_type": "code",
   "execution_count": 38,
   "id": "633ab484",
   "metadata": {},
   "outputs": [
    {
     "data": {
      "image/png": "[encoded data removed]",
      "text/plain": [
       "<Figure size 1080x504 with 1 Axes>"
      ]
     },
     "metadata": {
      "needs_background": "light"
     },
     "output_type": "display_data"
    }
   ],
   "source": [
    "#визуализируем информацию о расстоянии за одну поездку для пользователей c подпиской\n",
    "\n",
    "distance_counts = ultra['distance'].hist(bins=200, range=(240,5700), figsize=(15,7))\n",
    "distance_counts.set_xlabel('Расстояние в метрах')\n",
    "distance_counts.set_ylabel('Частота')\n",
    "distance_counts.set_xticks(range(240,5700,350))\n",
    "distance_counts.set_title('Расстояние за одну поездку для пользователей c подпиской');"
   ]
  },
  {
   "cell_type": "markdown",
   "id": "dc18563c",
   "metadata": {},
   "source": [
    "<div style=\"background-color:lavender; color:#black; text-align:center; padding:2%\">\n",
    "\n",
    "**Виктория:** ✔️ По графику видно, что для пользователей с подпиской пик расстояния за одну поездку приходится на около 3 км, но также есть люди, которые ездят более 5 км"
   ]
  },
  {
   "cell_type": "code",
   "execution_count": 39,
   "id": "4321335b",
   "metadata": {},
   "outputs": [
    {
     "data": {
      "text/plain": [
       "3.760352854281739"
      ]
     },
     "execution_count": 39,
     "metadata": {},
     "output_type": "execute_result"
    }
   ],
   "source": [
    "ultra['duration'].min()"
   ]
  },
  {
   "cell_type": "code",
   "execution_count": 40,
   "id": "2fe5109a",
   "metadata": {},
   "outputs": [
    {
     "data": {
      "text/plain": [
       "40.82396261922424"
      ]
     },
     "execution_count": 40,
     "metadata": {},
     "output_type": "execute_result"
    }
   ],
   "source": [
    "ultra['duration'].max()"
   ]
  },
  {
   "cell_type": "code",
   "execution_count": 41,
   "id": "5a626eda",
   "metadata": {},
   "outputs": [
    {
     "data": {
      "image/png": "[encoded data removed]",
      "text/plain": [
       "<Figure size 1080x504 with 1 Axes>"
      ]
     },
     "metadata": {
      "needs_background": "light"
     },
     "output_type": "display_data"
    }
   ],
   "source": [
    "#визуализируем информацию о продолжительности поездок для пользователей c подпиской\n",
    "\n",
    "ultra['duration'].value_counts()\n",
    "\n",
    "duration_counts = ultra['duration'].hist(bins=20, range=(3.7,41), figsize=(15,7))\n",
    "duration_counts.set_xlabel('Продолжительность')\n",
    "duration_counts.set_ylabel('Частота')\n",
    "duration_counts.set_xticks(range(3,41,2))\n",
    "duration_counts.set_title('Продолжительность поездок для пользователей c подпиской');"
   ]
  },
  {
   "cell_type": "markdown",
   "id": "5c30127a",
   "metadata": {},
   "source": [
    "<div style=\"background-color:lavender; color:#black; text-align:center; padding:2%\">\n",
    "    \n",
    "**Виктория:** ✔️ По графику видно, что для пользователей с подпиской продолжительность поездки ориентировочно составляет от 13 до 23 минут, хотя есть и те люди, что катаются более получаса"
   ]
  },
  {
   "cell_type": "markdown",
   "id": "402d620f",
   "metadata": {},
   "source": [
    "# Шаг 5. Подсчёт выручки"
   ]
  },
  {
   "cell_type": "code",
   "execution_count": 42,
   "id": "79586536",
   "metadata": {},
   "outputs": [
    {
     "data": {
      "text/html": [
       "<div>\n",
       "<style scoped>\n",
       "    .dataframe tbody tr th:only-of-type {\n",
       "        vertical-align: middle;\n",
       "    }\n",
       "\n",
       "    .dataframe tbody tr th {\n",
       "        vertical-align: top;\n",
       "    }\n",
       "\n",
       "    .dataframe thead th {\n",
       "        text-align: right;\n",
       "    }\n",
       "</style>\n",
       "<table border=\"1\" class=\"dataframe\">\n",
       "  <thead>\n",
       "    <tr style=\"text-align: right;\">\n",
       "      <th></th>\n",
       "      <th>user_id</th>\n",
       "      <th>name</th>\n",
       "      <th>age</th>\n",
       "      <th>city</th>\n",
       "      <th>subscription_type</th>\n",
       "      <th>distance</th>\n",
       "      <th>duration</th>\n",
       "      <th>date</th>\n",
       "      <th>month</th>\n",
       "      <th>year</th>\n",
       "      <th>minute_price</th>\n",
       "      <th>start_ride_price</th>\n",
       "      <th>subscription_fee</th>\n",
       "    </tr>\n",
       "  </thead>\n",
       "  <tbody>\n",
       "    <tr>\n",
       "      <th>0</th>\n",
       "      <td>1</td>\n",
       "      <td>Кира</td>\n",
       "      <td>22</td>\n",
       "      <td>Тюмень</td>\n",
       "      <td>ultra</td>\n",
       "      <td>4409.919140</td>\n",
       "      <td>25.599769</td>\n",
       "      <td>2021-01-01</td>\n",
       "      <td>1</td>\n",
       "      <td>2021</td>\n",
       "      <td>6</td>\n",
       "      <td>0</td>\n",
       "      <td>199</td>\n",
       "    </tr>\n",
       "    <tr>\n",
       "      <th>1</th>\n",
       "      <td>1</td>\n",
       "      <td>Кира</td>\n",
       "      <td>22</td>\n",
       "      <td>Тюмень</td>\n",
       "      <td>ultra</td>\n",
       "      <td>2617.592153</td>\n",
       "      <td>15.816871</td>\n",
       "      <td>2021-01-18</td>\n",
       "      <td>1</td>\n",
       "      <td>2021</td>\n",
       "      <td>6</td>\n",
       "      <td>0</td>\n",
       "      <td>199</td>\n",
       "    </tr>\n",
       "    <tr>\n",
       "      <th>2</th>\n",
       "      <td>1</td>\n",
       "      <td>Кира</td>\n",
       "      <td>22</td>\n",
       "      <td>Тюмень</td>\n",
       "      <td>ultra</td>\n",
       "      <td>754.159807</td>\n",
       "      <td>6.232113</td>\n",
       "      <td>2021-04-20</td>\n",
       "      <td>4</td>\n",
       "      <td>2021</td>\n",
       "      <td>6</td>\n",
       "      <td>0</td>\n",
       "      <td>199</td>\n",
       "    </tr>\n",
       "    <tr>\n",
       "      <th>3</th>\n",
       "      <td>1</td>\n",
       "      <td>Кира</td>\n",
       "      <td>22</td>\n",
       "      <td>Тюмень</td>\n",
       "      <td>ultra</td>\n",
       "      <td>2694.783254</td>\n",
       "      <td>18.511000</td>\n",
       "      <td>2021-08-11</td>\n",
       "      <td>8</td>\n",
       "      <td>2021</td>\n",
       "      <td>6</td>\n",
       "      <td>0</td>\n",
       "      <td>199</td>\n",
       "    </tr>\n",
       "    <tr>\n",
       "      <th>4</th>\n",
       "      <td>1</td>\n",
       "      <td>Кира</td>\n",
       "      <td>22</td>\n",
       "      <td>Тюмень</td>\n",
       "      <td>ultra</td>\n",
       "      <td>4028.687306</td>\n",
       "      <td>26.265803</td>\n",
       "      <td>2021-08-28</td>\n",
       "      <td>8</td>\n",
       "      <td>2021</td>\n",
       "      <td>6</td>\n",
       "      <td>0</td>\n",
       "      <td>199</td>\n",
       "    </tr>\n",
       "    <tr>\n",
       "      <th>...</th>\n",
       "      <td>...</td>\n",
       "      <td>...</td>\n",
       "      <td>...</td>\n",
       "      <td>...</td>\n",
       "      <td>...</td>\n",
       "      <td>...</td>\n",
       "      <td>...</td>\n",
       "      <td>...</td>\n",
       "      <td>...</td>\n",
       "      <td>...</td>\n",
       "      <td>...</td>\n",
       "      <td>...</td>\n",
       "      <td>...</td>\n",
       "    </tr>\n",
       "    <tr>\n",
       "      <th>18063</th>\n",
       "      <td>1534</td>\n",
       "      <td>Альберт</td>\n",
       "      <td>25</td>\n",
       "      <td>Краснодар</td>\n",
       "      <td>free</td>\n",
       "      <td>3781.098080</td>\n",
       "      <td>19.822962</td>\n",
       "      <td>2021-11-04</td>\n",
       "      <td>11</td>\n",
       "      <td>2021</td>\n",
       "      <td>8</td>\n",
       "      <td>50</td>\n",
       "      <td>0</td>\n",
       "    </tr>\n",
       "    <tr>\n",
       "      <th>18064</th>\n",
       "      <td>1534</td>\n",
       "      <td>Альберт</td>\n",
       "      <td>25</td>\n",
       "      <td>Краснодар</td>\n",
       "      <td>free</td>\n",
       "      <td>2840.423057</td>\n",
       "      <td>21.409799</td>\n",
       "      <td>2021-11-16</td>\n",
       "      <td>11</td>\n",
       "      <td>2021</td>\n",
       "      <td>8</td>\n",
       "      <td>50</td>\n",
       "      <td>0</td>\n",
       "    </tr>\n",
       "    <tr>\n",
       "      <th>18065</th>\n",
       "      <td>1534</td>\n",
       "      <td>Альберт</td>\n",
       "      <td>25</td>\n",
       "      <td>Краснодар</td>\n",
       "      <td>free</td>\n",
       "      <td>3826.185507</td>\n",
       "      <td>18.435051</td>\n",
       "      <td>2021-11-18</td>\n",
       "      <td>11</td>\n",
       "      <td>2021</td>\n",
       "      <td>8</td>\n",
       "      <td>50</td>\n",
       "      <td>0</td>\n",
       "    </tr>\n",
       "    <tr>\n",
       "      <th>18066</th>\n",
       "      <td>1534</td>\n",
       "      <td>Альберт</td>\n",
       "      <td>25</td>\n",
       "      <td>Краснодар</td>\n",
       "      <td>free</td>\n",
       "      <td>2902.308661</td>\n",
       "      <td>16.674362</td>\n",
       "      <td>2021-11-27</td>\n",
       "      <td>11</td>\n",
       "      <td>2021</td>\n",
       "      <td>8</td>\n",
       "      <td>50</td>\n",
       "      <td>0</td>\n",
       "    </tr>\n",
       "    <tr>\n",
       "      <th>18067</th>\n",
       "      <td>1534</td>\n",
       "      <td>Альберт</td>\n",
       "      <td>25</td>\n",
       "      <td>Краснодар</td>\n",
       "      <td>free</td>\n",
       "      <td>2371.711192</td>\n",
       "      <td>15.893917</td>\n",
       "      <td>2021-12-29</td>\n",
       "      <td>12</td>\n",
       "      <td>2021</td>\n",
       "      <td>8</td>\n",
       "      <td>50</td>\n",
       "      <td>0</td>\n",
       "    </tr>\n",
       "  </tbody>\n",
       "</table>\n",
       "<p>18068 rows × 13 columns</p>\n",
       "</div>"
      ],
      "text/plain": [
       "       user_id     name  age       city subscription_type     distance  \\\n",
       "0            1     Кира   22     Тюмень             ultra  4409.919140   \n",
       "1            1     Кира   22     Тюмень             ultra  2617.592153   \n",
       "2            1     Кира   22     Тюмень             ultra   754.159807   \n",
       "3            1     Кира   22     Тюмень             ultra  2694.783254   \n",
       "4            1     Кира   22     Тюмень             ultra  4028.687306   \n",
       "...        ...      ...  ...        ...               ...          ...   \n",
       "18063     1534  Альберт   25  Краснодар              free  3781.098080   \n",
       "18064     1534  Альберт   25  Краснодар              free  2840.423057   \n",
       "18065     1534  Альберт   25  Краснодар              free  3826.185507   \n",
       "18066     1534  Альберт   25  Краснодар              free  2902.308661   \n",
       "18067     1534  Альберт   25  Краснодар              free  2371.711192   \n",
       "\n",
       "        duration       date  month  year  minute_price  start_ride_price  \\\n",
       "0      25.599769 2021-01-01      1  2021             6                 0   \n",
       "1      15.816871 2021-01-18      1  2021             6                 0   \n",
       "2       6.232113 2021-04-20      4  2021             6                 0   \n",
       "3      18.511000 2021-08-11      8  2021             6                 0   \n",
       "4      26.265803 2021-08-28      8  2021             6                 0   \n",
       "...          ...        ...    ...   ...           ...               ...   \n",
       "18063  19.822962 2021-11-04     11  2021             8                50   \n",
       "18064  21.409799 2021-11-16     11  2021             8                50   \n",
       "18065  18.435051 2021-11-18     11  2021             8                50   \n",
       "18066  16.674362 2021-11-27     11  2021             8                50   \n",
       "18067  15.893917 2021-12-29     12  2021             8                50   \n",
       "\n",
       "       subscription_fee  \n",
       "0                   199  \n",
       "1                   199  \n",
       "2                   199  \n",
       "3                   199  \n",
       "4                   199  \n",
       "...                 ...  \n",
       "18063                 0  \n",
       "18064                 0  \n",
       "18065                 0  \n",
       "18066                 0  \n",
       "18067                 0  \n",
       "\n",
       "[18068 rows x 13 columns]"
      ]
     },
     "execution_count": 42,
     "metadata": {},
     "output_type": "execute_result"
    }
   ],
   "source": [
    "df.head()"
   ]
  },
  {
   "cell_type": "code",
   "execution_count": 44,
   "id": "320be899",
   "metadata": {},
   "outputs": [],
   "source": [
    "#создаём таблицу со значениями: суммарное расстояние, суммарное время, вид подписки и кол-во поездок\n",
    "\n",
    "aggregated_df = df.pivot_table(index=['month', 'user_id'],\n",
    "                            values=['distance', 'duration',\n",
    "                                    'subscription_type'],\n",
    "                            aggfunc={'user_id':'count',\n",
    "                                     'distance':'sum',\n",
    "                                     'duration':'sum',\n",
    "                                     'subscription_type':'min'})"
   ]
  },
  {
   "cell_type": "code",
   "execution_count": 45,
   "id": "64b8978c",
   "metadata": {},
   "outputs": [
    {
     "data": {
      "text/html": [
       "<div>\n",
       "<style scoped>\n",
       "    .dataframe tbody tr th:only-of-type {\n",
       "        vertical-align: middle;\n",
       "    }\n",
       "\n",
       "    .dataframe tbody tr th {\n",
       "        vertical-align: top;\n",
       "    }\n",
       "\n",
       "    .dataframe thead th {\n",
       "        text-align: right;\n",
       "    }\n",
       "</style>\n",
       "<table border=\"1\" class=\"dataframe\">\n",
       "  <thead>\n",
       "    <tr style=\"text-align: right;\">\n",
       "      <th></th>\n",
       "      <th></th>\n",
       "      <th>distance</th>\n",
       "      <th>duration</th>\n",
       "      <th>subscription_type</th>\n",
       "      <th>count_trips</th>\n",
       "    </tr>\n",
       "    <tr>\n",
       "      <th>month</th>\n",
       "      <th>user_id</th>\n",
       "      <th></th>\n",
       "      <th></th>\n",
       "      <th></th>\n",
       "      <th></th>\n",
       "    </tr>\n",
       "  </thead>\n",
       "  <tbody>\n",
       "    <tr>\n",
       "      <th rowspan=\"5\" valign=\"top\">1</th>\n",
       "      <th>1</th>\n",
       "      <td>7027.511294</td>\n",
       "      <td>42.0</td>\n",
       "      <td>ultra</td>\n",
       "      <td>2</td>\n",
       "    </tr>\n",
       "    <tr>\n",
       "      <th>3</th>\n",
       "      <td>3061.777147</td>\n",
       "      <td>13.0</td>\n",
       "      <td>ultra</td>\n",
       "      <td>1</td>\n",
       "    </tr>\n",
       "    <tr>\n",
       "      <th>5</th>\n",
       "      <td>3914.646990</td>\n",
       "      <td>13.0</td>\n",
       "      <td>ultra</td>\n",
       "      <td>1</td>\n",
       "    </tr>\n",
       "    <tr>\n",
       "      <th>7</th>\n",
       "      <td>6478.080979</td>\n",
       "      <td>28.0</td>\n",
       "      <td>ultra</td>\n",
       "      <td>2</td>\n",
       "    </tr>\n",
       "    <tr>\n",
       "      <th>12</th>\n",
       "      <td>3577.151148</td>\n",
       "      <td>33.0</td>\n",
       "      <td>ultra</td>\n",
       "      <td>1</td>\n",
       "    </tr>\n",
       "    <tr>\n",
       "      <th>...</th>\n",
       "      <th>...</th>\n",
       "      <td>...</td>\n",
       "      <td>...</td>\n",
       "      <td>...</td>\n",
       "      <td>...</td>\n",
       "    </tr>\n",
       "    <tr>\n",
       "      <th rowspan=\"5\" valign=\"top\">12</th>\n",
       "      <th>1525</th>\n",
       "      <td>4597.854350</td>\n",
       "      <td>34.0</td>\n",
       "      <td>free</td>\n",
       "      <td>1</td>\n",
       "    </tr>\n",
       "    <tr>\n",
       "      <th>1526</th>\n",
       "      <td>3644.121544</td>\n",
       "      <td>23.0</td>\n",
       "      <td>free</td>\n",
       "      <td>1</td>\n",
       "    </tr>\n",
       "    <tr>\n",
       "      <th>1528</th>\n",
       "      <td>3998.569324</td>\n",
       "      <td>11.0</td>\n",
       "      <td>free</td>\n",
       "      <td>1</td>\n",
       "    </tr>\n",
       "    <tr>\n",
       "      <th>1532</th>\n",
       "      <td>6111.889853</td>\n",
       "      <td>41.0</td>\n",
       "      <td>free</td>\n",
       "      <td>2</td>\n",
       "    </tr>\n",
       "    <tr>\n",
       "      <th>1534</th>\n",
       "      <td>2371.711192</td>\n",
       "      <td>16.0</td>\n",
       "      <td>free</td>\n",
       "      <td>1</td>\n",
       "    </tr>\n",
       "  </tbody>\n",
       "</table>\n",
       "<p>11331 rows × 4 columns</p>\n",
       "</div>"
      ],
      "text/plain": [
       "                  distance  duration subscription_type  count_trips\n",
       "month user_id                                                      \n",
       "1     1        7027.511294      42.0             ultra            2\n",
       "      3        3061.777147      13.0             ultra            1\n",
       "      5        3914.646990      13.0             ultra            1\n",
       "      7        6478.080979      28.0             ultra            2\n",
       "      12       3577.151148      33.0             ultra            1\n",
       "...                    ...       ...               ...          ...\n",
       "12    1525     4597.854350      34.0              free            1\n",
       "      1526     3644.121544      23.0              free            1\n",
       "      1528     3998.569324      11.0              free            1\n",
       "      1532     6111.889853      41.0              free            2\n",
       "      1534     2371.711192      16.0              free            1\n",
       "\n",
       "[11331 rows x 4 columns]"
      ]
     },
     "execution_count": 45,
     "metadata": {},
     "output_type": "execute_result"
    }
   ],
   "source": [
    "aggregated_df.rename(columns={'user_id':'count_trips'}, inplace=True)\n",
    "aggregated_df['duration'] = np.ceil(aggregated_df['duration'])\n",
    "aggregated_df"
   ]
  },
  {
   "cell_type": "code",
   "execution_count": 46,
   "id": "5af7bb7b",
   "metadata": {},
   "outputs": [
    {
     "data": {
      "text/html": [
       "<div>\n",
       "<style scoped>\n",
       "    .dataframe tbody tr th:only-of-type {\n",
       "        vertical-align: middle;\n",
       "    }\n",
       "\n",
       "    .dataframe tbody tr th {\n",
       "        vertical-align: top;\n",
       "    }\n",
       "\n",
       "    .dataframe thead th {\n",
       "        text-align: right;\n",
       "    }\n",
       "</style>\n",
       "<table border=\"1\" class=\"dataframe\">\n",
       "  <thead>\n",
       "    <tr style=\"text-align: right;\">\n",
       "      <th></th>\n",
       "      <th></th>\n",
       "      <th>distance</th>\n",
       "      <th>duration</th>\n",
       "      <th>subscription_type</th>\n",
       "      <th>count_trips</th>\n",
       "      <th>monthly_revenue</th>\n",
       "    </tr>\n",
       "    <tr>\n",
       "      <th>month</th>\n",
       "      <th>user_id</th>\n",
       "      <th></th>\n",
       "      <th></th>\n",
       "      <th></th>\n",
       "      <th></th>\n",
       "      <th></th>\n",
       "    </tr>\n",
       "  </thead>\n",
       "  <tbody>\n",
       "    <tr>\n",
       "      <th rowspan=\"5\" valign=\"top\">1</th>\n",
       "      <th>1</th>\n",
       "      <td>7027.511294</td>\n",
       "      <td>42.0</td>\n",
       "      <td>ultra</td>\n",
       "      <td>2</td>\n",
       "      <td>451.0</td>\n",
       "    </tr>\n",
       "    <tr>\n",
       "      <th>3</th>\n",
       "      <td>3061.777147</td>\n",
       "      <td>13.0</td>\n",
       "      <td>ultra</td>\n",
       "      <td>1</td>\n",
       "      <td>277.0</td>\n",
       "    </tr>\n",
       "    <tr>\n",
       "      <th>5</th>\n",
       "      <td>3914.646990</td>\n",
       "      <td>13.0</td>\n",
       "      <td>ultra</td>\n",
       "      <td>1</td>\n",
       "      <td>277.0</td>\n",
       "    </tr>\n",
       "    <tr>\n",
       "      <th>7</th>\n",
       "      <td>6478.080979</td>\n",
       "      <td>28.0</td>\n",
       "      <td>ultra</td>\n",
       "      <td>2</td>\n",
       "      <td>367.0</td>\n",
       "    </tr>\n",
       "    <tr>\n",
       "      <th>12</th>\n",
       "      <td>3577.151148</td>\n",
       "      <td>33.0</td>\n",
       "      <td>ultra</td>\n",
       "      <td>1</td>\n",
       "      <td>397.0</td>\n",
       "    </tr>\n",
       "    <tr>\n",
       "      <th>...</th>\n",
       "      <th>...</th>\n",
       "      <td>...</td>\n",
       "      <td>...</td>\n",
       "      <td>...</td>\n",
       "      <td>...</td>\n",
       "      <td>...</td>\n",
       "    </tr>\n",
       "    <tr>\n",
       "      <th rowspan=\"5\" valign=\"top\">12</th>\n",
       "      <th>1525</th>\n",
       "      <td>4597.854350</td>\n",
       "      <td>34.0</td>\n",
       "      <td>free</td>\n",
       "      <td>1</td>\n",
       "      <td>322.0</td>\n",
       "    </tr>\n",
       "    <tr>\n",
       "      <th>1526</th>\n",
       "      <td>3644.121544</td>\n",
       "      <td>23.0</td>\n",
       "      <td>free</td>\n",
       "      <td>1</td>\n",
       "      <td>234.0</td>\n",
       "    </tr>\n",
       "    <tr>\n",
       "      <th>1528</th>\n",
       "      <td>3998.569324</td>\n",
       "      <td>11.0</td>\n",
       "      <td>free</td>\n",
       "      <td>1</td>\n",
       "      <td>138.0</td>\n",
       "    </tr>\n",
       "    <tr>\n",
       "      <th>1532</th>\n",
       "      <td>6111.889853</td>\n",
       "      <td>41.0</td>\n",
       "      <td>free</td>\n",
       "      <td>2</td>\n",
       "      <td>428.0</td>\n",
       "    </tr>\n",
       "    <tr>\n",
       "      <th>1534</th>\n",
       "      <td>2371.711192</td>\n",
       "      <td>16.0</td>\n",
       "      <td>free</td>\n",
       "      <td>1</td>\n",
       "      <td>178.0</td>\n",
       "    </tr>\n",
       "  </tbody>\n",
       "</table>\n",
       "<p>11331 rows × 5 columns</p>\n",
       "</div>"
      ],
      "text/plain": [
       "                  distance  duration subscription_type  count_trips  \\\n",
       "month user_id                                                         \n",
       "1     1        7027.511294      42.0             ultra            2   \n",
       "      3        3061.777147      13.0             ultra            1   \n",
       "      5        3914.646990      13.0             ultra            1   \n",
       "      7        6478.080979      28.0             ultra            2   \n",
       "      12       3577.151148      33.0             ultra            1   \n",
       "...                    ...       ...               ...          ...   \n",
       "12    1525     4597.854350      34.0              free            1   \n",
       "      1526     3644.121544      23.0              free            1   \n",
       "      1528     3998.569324      11.0              free            1   \n",
       "      1532     6111.889853      41.0              free            2   \n",
       "      1534     2371.711192      16.0              free            1   \n",
       "\n",
       "               monthly_revenue  \n",
       "month user_id                   \n",
       "1     1                  451.0  \n",
       "      3                  277.0  \n",
       "      5                  277.0  \n",
       "      7                  367.0  \n",
       "      12                 397.0  \n",
       "...                        ...  \n",
       "12    1525               322.0  \n",
       "      1526               234.0  \n",
       "      1528               138.0  \n",
       "      1532               428.0  \n",
       "      1534               178.0  \n",
       "\n",
       "[11331 rows x 5 columns]"
      ]
     },
     "execution_count": 46,
     "metadata": {},
     "output_type": "execute_result"
    }
   ],
   "source": [
    "def monthly_revenue(row):\n",
    "    if row['subscription_type'] == 'free':\n",
    "        return (50 * row['count_trips']) + (8 * row['duration'])\n",
    "    elif row['subscription_type'] == 'ultra':\n",
    "        return (6 * row['duration']) + 199\n",
    "\n",
    "aggregated_df['monthly_revenue'] = aggregated_df.apply(monthly_revenue, axis=1)\n",
    "aggregated_df"
   ]
  },
  {
   "cell_type": "markdown",
   "id": "175c3cbe",
   "metadata": {},
   "source": [
    "</font><font color='Blue'><b>Были вычислены суммарное расстояние, количество поездок и суммарное время для каждого пользователя в течение каждого месяца. Кроме того, добавлен столбец с помесячной выручкой, полученной от каждого пользователя</b></font><br>"
   ]
  },
  {
   "cell_type": "markdown",
   "id": "41545ac0",
   "metadata": {},
   "source": [
    "#### Шаг 6. Проверка гипотез"
   ]
  },
  {
   "cell_type": "markdown",
   "id": "b4e72aec",
   "metadata": {},
   "source": [
    "<div style=\"background-color:lavender; color:#black; text-align:center; padding:2%\">\n",
    "    \n",
    "**Виктория:** ✔️ \n",
    "\n",
    "H0 (нулевая гипотеза): Время 'duration' пользователей с подпиской 'ultra' = время 'duration'  пользователей без подписки 'free'\n",
    "\n",
    "    \n",
    "H1 (альтернативная гипотеза): Время 'duration'  пользователей с подпиской 'ultra' > время 'duration'  пользователей без подписки 'free'"
   ]
  },
  {
   "cell_type": "code",
   "execution_count": 47,
   "id": "af3eab17",
   "metadata": {},
   "outputs": [
    {
     "name": "stdout",
     "output_type": "stream",
     "text": [
      "p-value: 1.2804098316645618e-34\n",
      "Отвергаем нулевую гипотезу\n"
     ]
    }
   ],
   "source": [
    "#проверяем, тратят ли пользователи с подпиской больше времени на поездки\n",
    "\n",
    "ultra_subscription = ultra['duration']\n",
    "free_subscription = free['duration']\n",
    "alpha = 0.05\n",
    "\n",
    "results = st.ttest_ind(ultra_subscription, free_subscription, alternative='greater')\n",
    "\n",
    "print(f'p-value: {results.pvalue}')\n",
    "if results.pvalue < alpha:\n",
    "    print('Отвергаем нулевую гипотезу')\n",
    "else:\n",
    "    print('Нет оснований отвергнуть нулевую гипотезу')"
   ]
  },
  {
   "cell_type": "code",
   "execution_count": 52,
   "id": "03778a50",
   "metadata": {},
   "outputs": [
    {
     "data": {
      "text/plain": [
       "0       25.599769\n",
       "1       15.816871\n",
       "2        6.232113\n",
       "3       18.511000\n",
       "4       26.265803\n",
       "          ...    \n",
       "6495    24.671163\n",
       "6496    15.892886\n",
       "6497    14.389525\n",
       "6498    15.839579\n",
       "6499    25.217345\n",
       "Name: duration, Length: 6500, dtype: float64"
      ]
     },
     "execution_count": 52,
     "metadata": {},
     "output_type": "execute_result"
    }
   ],
   "source": [
    "ultra_subscription = ultra['duration']\n",
    "ultra_subscription"
   ]
  },
  {
   "cell_type": "markdown",
   "id": "5f749bb9",
   "metadata": {},
   "source": [
    "</font><font color='Blue'><b>Можно сделать вывод о том, что пользователи с подпиской не тратят столько времени на поездки, сколько и пользователи на бесплатном тарифе</b></font><br>"
   ]
  },
  {
   "cell_type": "markdown",
   "id": "71607e4c",
   "metadata": {},
   "source": [
    "<div style=\"background-color:lavender; color:#black; text-align:center; padding:2%\">\n",
    "    \n",
    "**Виктория:** ✔️ \n",
    "\n",
    "H0 (нулевая гипотеза): Расстояние 'distance' пользователей с подпиской 'ultra' = 3130 м\n",
    "\n",
    "    \n",
    "H1 (альтернативная гипотеза): Расстояние 'distance' пользователей с подпиской 'ultra' < 3130 м"
   ]
  },
  {
   "cell_type": "code",
   "execution_count": 48,
   "id": "06ed7b3d",
   "metadata": {},
   "outputs": [
    {
     "name": "stdout",
     "output_type": "stream",
     "text": [
      "p-value: 0.08046311521502146\n",
      "Нет оснований отвергать нулевую гипотезу\n"
     ]
    }
   ],
   "source": [
    "#проверка гипотезы: расстояние, которое проезжают пользователи с подпиской за одну поездку, не превышает 3130 метров\n",
    "\n",
    "distance_per_trip = ultra['distance']\n",
    "interested_value = 3130\n",
    "alpha = 0.05\n",
    "results = st.ttest_1samp(distance_per_trip, interested_value, alternative='less')\n",
    "\n",
    "print(f'p-value: {results.pvalue}')\n",
    "\n",
    "if results.pvalue < alpha:\n",
    "    print('Отвергаем нулевую гипотезу')\n",
    "else:\n",
    "    print('Нет оснований отвергать нулевую гипотезу')"
   ]
  },
  {
   "cell_type": "markdown",
   "id": "4cce85c6",
   "metadata": {},
   "source": [
    "</font><font color='Blue'><b>Можно сделать вывод о том, что мы не можем утверждать, что расстояние, которое проехали пользователи на тарифе ultra не превышает 3130 м</b></font><br>"
   ]
  },
  {
   "cell_type": "code",
   "execution_count": 49,
   "id": "c9901bc0",
   "metadata": {},
   "outputs": [
    {
     "data": {
      "text/html": [
       "<div>\n",
       "<style scoped>\n",
       "    .dataframe tbody tr th:only-of-type {\n",
       "        vertical-align: middle;\n",
       "    }\n",
       "\n",
       "    .dataframe tbody tr th {\n",
       "        vertical-align: top;\n",
       "    }\n",
       "\n",
       "    .dataframe thead th {\n",
       "        text-align: right;\n",
       "    }\n",
       "</style>\n",
       "<table border=\"1\" class=\"dataframe\">\n",
       "  <thead>\n",
       "    <tr style=\"text-align: right;\">\n",
       "      <th></th>\n",
       "      <th></th>\n",
       "      <th>distance</th>\n",
       "      <th>duration</th>\n",
       "      <th>subscription_type</th>\n",
       "      <th>count_trips</th>\n",
       "      <th>monthly_revenue</th>\n",
       "    </tr>\n",
       "    <tr>\n",
       "      <th>month</th>\n",
       "      <th>user_id</th>\n",
       "      <th></th>\n",
       "      <th></th>\n",
       "      <th></th>\n",
       "      <th></th>\n",
       "      <th></th>\n",
       "    </tr>\n",
       "  </thead>\n",
       "  <tbody>\n",
       "    <tr>\n",
       "      <th rowspan=\"5\" valign=\"top\">1</th>\n",
       "      <th>1</th>\n",
       "      <td>7027.511294</td>\n",
       "      <td>42.0</td>\n",
       "      <td>ultra</td>\n",
       "      <td>2</td>\n",
       "      <td>451.0</td>\n",
       "    </tr>\n",
       "    <tr>\n",
       "      <th>3</th>\n",
       "      <td>3061.777147</td>\n",
       "      <td>13.0</td>\n",
       "      <td>ultra</td>\n",
       "      <td>1</td>\n",
       "      <td>277.0</td>\n",
       "    </tr>\n",
       "    <tr>\n",
       "      <th>5</th>\n",
       "      <td>3914.646990</td>\n",
       "      <td>13.0</td>\n",
       "      <td>ultra</td>\n",
       "      <td>1</td>\n",
       "      <td>277.0</td>\n",
       "    </tr>\n",
       "    <tr>\n",
       "      <th>7</th>\n",
       "      <td>6478.080979</td>\n",
       "      <td>28.0</td>\n",
       "      <td>ultra</td>\n",
       "      <td>2</td>\n",
       "      <td>367.0</td>\n",
       "    </tr>\n",
       "    <tr>\n",
       "      <th>12</th>\n",
       "      <td>3577.151148</td>\n",
       "      <td>33.0</td>\n",
       "      <td>ultra</td>\n",
       "      <td>1</td>\n",
       "      <td>397.0</td>\n",
       "    </tr>\n",
       "    <tr>\n",
       "      <th>...</th>\n",
       "      <th>...</th>\n",
       "      <td>...</td>\n",
       "      <td>...</td>\n",
       "      <td>...</td>\n",
       "      <td>...</td>\n",
       "      <td>...</td>\n",
       "    </tr>\n",
       "    <tr>\n",
       "      <th rowspan=\"5\" valign=\"top\">12</th>\n",
       "      <th>1525</th>\n",
       "      <td>4597.854350</td>\n",
       "      <td>34.0</td>\n",
       "      <td>free</td>\n",
       "      <td>1</td>\n",
       "      <td>322.0</td>\n",
       "    </tr>\n",
       "    <tr>\n",
       "      <th>1526</th>\n",
       "      <td>3644.121544</td>\n",
       "      <td>23.0</td>\n",
       "      <td>free</td>\n",
       "      <td>1</td>\n",
       "      <td>234.0</td>\n",
       "    </tr>\n",
       "    <tr>\n",
       "      <th>1528</th>\n",
       "      <td>3998.569324</td>\n",
       "      <td>11.0</td>\n",
       "      <td>free</td>\n",
       "      <td>1</td>\n",
       "      <td>138.0</td>\n",
       "    </tr>\n",
       "    <tr>\n",
       "      <th>1532</th>\n",
       "      <td>6111.889853</td>\n",
       "      <td>41.0</td>\n",
       "      <td>free</td>\n",
       "      <td>2</td>\n",
       "      <td>428.0</td>\n",
       "    </tr>\n",
       "    <tr>\n",
       "      <th>1534</th>\n",
       "      <td>2371.711192</td>\n",
       "      <td>16.0</td>\n",
       "      <td>free</td>\n",
       "      <td>1</td>\n",
       "      <td>178.0</td>\n",
       "    </tr>\n",
       "  </tbody>\n",
       "</table>\n",
       "<p>11331 rows × 5 columns</p>\n",
       "</div>"
      ],
      "text/plain": [
       "                  distance  duration subscription_type  count_trips  \\\n",
       "month user_id                                                         \n",
       "1     1        7027.511294      42.0             ultra            2   \n",
       "      3        3061.777147      13.0             ultra            1   \n",
       "      5        3914.646990      13.0             ultra            1   \n",
       "      7        6478.080979      28.0             ultra            2   \n",
       "      12       3577.151148      33.0             ultra            1   \n",
       "...                    ...       ...               ...          ...   \n",
       "12    1525     4597.854350      34.0              free            1   \n",
       "      1526     3644.121544      23.0              free            1   \n",
       "      1528     3998.569324      11.0              free            1   \n",
       "      1532     6111.889853      41.0              free            2   \n",
       "      1534     2371.711192      16.0              free            1   \n",
       "\n",
       "               monthly_revenue  \n",
       "month user_id                   \n",
       "1     1                  451.0  \n",
       "      3                  277.0  \n",
       "      5                  277.0  \n",
       "      7                  367.0  \n",
       "      12                 397.0  \n",
       "...                        ...  \n",
       "12    1525               322.0  \n",
       "      1526               234.0  \n",
       "      1528               138.0  \n",
       "      1532               428.0  \n",
       "      1534               178.0  \n",
       "\n",
       "[11331 rows x 5 columns]"
      ]
     },
     "execution_count": 49,
     "metadata": {},
     "output_type": "execute_result"
    }
   ],
   "source": [
    "aggregated_df.head()"
   ]
  },
  {
   "cell_type": "markdown",
   "id": "9c9075e1",
   "metadata": {},
   "source": [
    "<div style=\"background-color:lavender; color:#black; text-align:center; padding:2%\">\n",
    "    \n",
    "**Виктория:** ✔️ \n",
    "\n",
    "H0 (нулевая гипотеза): Выручка 'monthly_revenue' пользователей с подпиской 'ultra' = выручка 'monthly_revenue' пользователей без подписки 'free'\n",
    "\n",
    "    \n",
    "H1 (альтернативная гипотеза): Выручка 'monthly_revenue' пользователей с подпиской 'ultra' > выручка 'monthly_revenue' пользователей без подписки 'free'"
   ]
  },
  {
   "cell_type": "code",
   "execution_count": 50,
   "id": "6ebcde14",
   "metadata": {},
   "outputs": [
    {
     "name": "stdout",
     "output_type": "stream",
     "text": [
      "p-value: 2.8130926188487286e-35\n",
      "Отвергаем нулевую гипотезу\n"
     ]
    }
   ],
   "source": [
    "#проверяем, будет ли помесячная выручка от пользователей с подпиской по месяцам выше, чем выручка от пользователей без подписки\n",
    "\n",
    "monthly_revenue_ultra = aggregated_df.loc[aggregated_df['subscription_type'] == 'ultra', 'monthly_revenue']                                          \n",
    "monthly_revenue_free = aggregated_df.loc[aggregated_df['subscription_type'] == 'free', 'monthly_revenue']\n",
    "\n",
    "alpha = 0.05\n",
    "\n",
    "results = st.ttest_ind(monthly_revenue_ultra, monthly_revenue_free, alternative='greater')\n",
    "\n",
    "print(f'p-value: {results.pvalue}')\n",
    "\n",
    "if results.pvalue < alpha:\n",
    "    print('Отвергаем нулевую гипотезу')\n",
    "else:\n",
    "    print('Нет оснований отвергать нулевую гипотезу')"
   ]
  },
  {
   "cell_type": "markdown",
   "id": "c27bc128",
   "metadata": {},
   "source": [
    "</font><font color='Blue'><b>Можно сделать вывод о том, что выручка от пользователей с подпиской по месяцам выше, чем выручка от пользователей без подписки</b></font><br>"
   ]
  },
  {
   "cell_type": "markdown",
   "id": "a5517f1f",
   "metadata": {},
   "source": [
    "6.4. Представьте такую ситуацию: техническая команда сервиса обновила сервера, с которыми взаимодействует мобильное приложение. Она надеется, что из-за этого количество обращений в техподдержку значимо снизилось. Некоторый файл содержит для каждого пользователя данные о количестве обращений до обновления и после него. Какой тест вам понадобился бы для проверки этой гипотезы?"
   ]
  },
  {
   "cell_type": "markdown",
   "id": "3bcef96f",
   "metadata": {},
   "source": [
    "</font><font color='Blue'><b>Нужно использовать scipy.stats.ttest_rel()\n",
    "\n",
    "Гипотезы будут сформулированы так:\n",
    "\n",
    "\n",
    "H0 : μ1 = μ2\n",
    "\n",
    "H1 : μ1 != μ2\n",
    "\n",
    "где μ1 и μ2 - средние значения до и после изменения.</b></font><br>"
   ]
  },
  {
   "cell_type": "markdown",
   "id": "61213c5e",
   "metadata": {},
   "source": [
    "#### Шаг 7. Распределения"
   ]
  },
  {
   "cell_type": "markdown",
   "id": "609fee5f",
   "metadata": {},
   "source": [
    "</font><font color='Blue'><b>\n",
    "    \n",
    "Общий вывод: Был проведен анализ данных, где были рассчитаны общее расстояние, количество поездок и общее время для каждого клиента в течение каждого месяца. Кроме того, был добавлен столбец с месячным доходом от каждого клиента.\n",
    "\n",
    "В процессе анализа были загружены 3 таблицы: с информацией о клиентах, о поездках и о подписках. Была проверена наличие пропущенных значений в данных, но таких значений не было обнаружено.\n",
    "\n",
    "В результате исследовательского анализа были получены следующие результаты:\n",
    "\n",
    "- Наибольшее количество клиентов зарегистрировано в Пятигорске, а наименьшее количество в Москве.\n",
    "- Большинство клиентов используют бесплатную подписку.\n",
    "- Возраст клиентов варьируется от 20 до 30 лет.\n",
    "- Наиболее распространенные расстояния поездок составляют от 2.5 до 4 км.\n",
    "- Чаще всего поездки длительностью от 13 до 22 минут.\n",
    "\n",
    "Также были найдены общее расстояние, количество поездок и общее время для каждого клиента за каждый месяц.\n",
    "\n",
    "В ходе проверки гипотез были получены следующие результаты:\n",
    "\n",
    "- Клиенты с подпиской тратят больше времени на поездки, чем клиенты без подписки. Эта гипотеза была отвергнута.\n",
    "- Клиенты с подпиской не превышают расстояние в 3130 метров за одну поездку. Эта гипотеза не была отвергнута.\n",
    "- Месячный доход от клиентов с подпиской выше, чем от клиентов без подписки. Эта гипотеза была отвергнута.\n",
    "    \n",
    "</b></font><br>"
   ]
  }
 ],
 "metadata": {
  "ExecuteTimeLog": [
   {
    "duration": 406,
    "start_time": "2023-06-30T22:06:42.324Z"
   },
   {
    "duration": 136,
    "start_time": "2023-06-30T22:06:43.327Z"
   },
   {
    "duration": 201,
    "start_time": "2023-06-30T22:07:16.472Z"
   },
   {
    "duration": 17,
    "start_time": "2023-06-30T22:07:16.904Z"
   },
   {
    "duration": 11,
    "start_time": "2023-06-30T22:07:59.715Z"
   },
   {
    "duration": 9,
    "start_time": "2023-06-30T22:08:07.445Z"
   },
   {
    "duration": 8,
    "start_time": "2023-06-30T22:08:12.368Z"
   },
   {
    "duration": 13,
    "start_time": "2023-06-30T22:08:20.206Z"
   },
   {
    "duration": 63,
    "start_time": "2023-06-30T22:08:41.463Z"
   },
   {
    "duration": 14,
    "start_time": "2023-06-30T22:08:46.864Z"
   },
   {
    "duration": 10,
    "start_time": "2023-06-30T22:09:32.768Z"
   },
   {
    "duration": 8,
    "start_time": "2023-06-30T22:10:55.311Z"
   },
   {
    "duration": 7,
    "start_time": "2023-06-30T22:12:46.813Z"
   },
   {
    "duration": 11,
    "start_time": "2023-06-30T22:13:04.016Z"
   },
   {
    "duration": 5,
    "start_time": "2023-06-30T22:14:09.858Z"
   },
   {
    "duration": 9,
    "start_time": "2023-06-30T22:14:21.368Z"
   },
   {
    "duration": 13,
    "start_time": "2023-06-30T22:16:42.639Z"
   },
   {
    "duration": 10,
    "start_time": "2023-06-30T22:16:56.968Z"
   },
   {
    "duration": 11,
    "start_time": "2023-06-30T22:17:02.880Z"
   },
   {
    "duration": 15,
    "start_time": "2023-06-30T22:17:39.206Z"
   },
   {
    "duration": 26,
    "start_time": "2023-06-30T22:18:01.644Z"
   },
   {
    "duration": 8,
    "start_time": "2023-06-30T22:18:15.464Z"
   },
   {
    "duration": 14,
    "start_time": "2023-06-30T22:18:24.463Z"
   },
   {
    "duration": 12,
    "start_time": "2023-06-30T22:19:30.400Z"
   },
   {
    "duration": 40,
    "start_time": "2023-06-30T22:19:43.724Z"
   },
   {
    "duration": 5,
    "start_time": "2023-06-30T22:20:11.768Z"
   },
   {
    "duration": 7,
    "start_time": "2023-06-30T22:20:31.386Z"
   },
   {
    "duration": 8,
    "start_time": "2023-06-30T22:20:48.008Z"
   },
   {
    "duration": 8,
    "start_time": "2023-06-30T22:21:40.448Z"
   },
   {
    "duration": 9,
    "start_time": "2023-06-30T22:22:04.908Z"
   },
   {
    "duration": 7,
    "start_time": "2023-06-30T22:22:19.526Z"
   },
   {
    "duration": 760,
    "start_time": "2023-06-30T22:22:37.601Z"
   },
   {
    "duration": 6,
    "start_time": "2023-06-30T22:24:01.465Z"
   },
   {
    "duration": 75,
    "start_time": "2023-06-30T22:24:35.921Z"
   },
   {
    "duration": 72,
    "start_time": "2023-06-30T22:24:39.949Z"
   },
   {
    "duration": 152,
    "start_time": "2023-06-30T22:25:15.343Z"
   },
   {
    "duration": 171,
    "start_time": "2023-06-30T22:26:27.267Z"
   },
   {
    "duration": 170,
    "start_time": "2023-06-30T22:27:00.297Z"
   },
   {
    "duration": 202,
    "start_time": "2023-06-30T22:27:09.743Z"
   },
   {
    "duration": 179,
    "start_time": "2023-06-30T22:27:32.058Z"
   },
   {
    "duration": 179,
    "start_time": "2023-06-30T22:27:47.460Z"
   },
   {
    "duration": 17,
    "start_time": "2023-06-30T22:35:09.492Z"
   },
   {
    "duration": 3,
    "start_time": "2023-06-30T22:35:17.588Z"
   },
   {
    "duration": 8,
    "start_time": "2023-06-30T22:35:17.954Z"
   },
   {
    "duration": 9,
    "start_time": "2023-06-30T22:35:25.205Z"
   },
   {
    "duration": 466,
    "start_time": "2023-06-30T22:35:46.115Z"
   },
   {
    "duration": 64,
    "start_time": "2023-06-30T22:35:47.245Z"
   },
   {
    "duration": 18,
    "start_time": "2023-06-30T22:35:47.365Z"
   },
   {
    "duration": 19,
    "start_time": "2023-06-30T22:35:47.510Z"
   },
   {
    "duration": 16,
    "start_time": "2023-06-30T22:35:48.386Z"
   },
   {
    "duration": 8,
    "start_time": "2023-06-30T22:35:49.793Z"
   },
   {
    "duration": 6,
    "start_time": "2023-06-30T22:35:50.065Z"
   },
   {
    "duration": 7,
    "start_time": "2023-06-30T22:35:50.794Z"
   },
   {
    "duration": 7,
    "start_time": "2023-06-30T22:35:53.377Z"
   },
   {
    "duration": 6,
    "start_time": "2023-06-30T22:35:53.849Z"
   },
   {
    "duration": 8,
    "start_time": "2023-06-30T22:35:55.954Z"
   },
   {
    "duration": 5,
    "start_time": "2023-06-30T22:35:56.122Z"
   },
   {
    "duration": 3,
    "start_time": "2023-06-30T22:35:56.842Z"
   },
   {
    "duration": 108,
    "start_time": "2023-06-30T22:35:56.993Z"
   },
   {
    "duration": 3,
    "start_time": "2023-06-30T22:36:27.012Z"
   },
   {
    "duration": 205,
    "start_time": "2023-06-30T22:36:27.453Z"
   },
   {
    "duration": 4,
    "start_time": "2023-06-30T22:36:40.801Z"
   },
   {
    "duration": 167,
    "start_time": "2023-06-30T22:36:41.208Z"
   },
   {
    "duration": 3,
    "start_time": "2023-06-30T22:37:46.009Z"
   },
   {
    "duration": 154,
    "start_time": "2023-06-30T22:37:49.473Z"
   },
   {
    "duration": 4,
    "start_time": "2023-06-30T22:39:37.112Z"
   },
   {
    "duration": 148,
    "start_time": "2023-06-30T22:39:37.466Z"
   },
   {
    "duration": 3,
    "start_time": "2023-06-30T22:39:45.785Z"
   },
   {
    "duration": 199,
    "start_time": "2023-06-30T22:39:47.809Z"
   },
   {
    "duration": 3,
    "start_time": "2023-06-30T22:39:55.202Z"
   },
   {
    "duration": 180,
    "start_time": "2023-06-30T22:39:56.435Z"
   },
   {
    "duration": 206,
    "start_time": "2023-06-30T22:41:46.292Z"
   },
   {
    "duration": 4,
    "start_time": "2023-06-30T22:42:23.396Z"
   },
   {
    "duration": 180,
    "start_time": "2023-06-30T22:42:23.991Z"
   },
   {
    "duration": 4,
    "start_time": "2023-06-30T22:42:28.830Z"
   },
   {
    "duration": 171,
    "start_time": "2023-06-30T22:42:29.254Z"
   },
   {
    "duration": 3,
    "start_time": "2023-06-30T22:42:48.236Z"
   },
   {
    "duration": 207,
    "start_time": "2023-06-30T22:42:48.762Z"
   },
   {
    "duration": 184,
    "start_time": "2023-06-30T22:45:09.532Z"
   },
   {
    "duration": 9,
    "start_time": "2023-06-30T22:45:35.545Z"
   },
   {
    "duration": 5,
    "start_time": "2023-06-30T22:45:59.700Z"
   },
   {
    "duration": 4,
    "start_time": "2023-06-30T22:46:09.145Z"
   },
   {
    "duration": 5,
    "start_time": "2023-06-30T22:46:14.669Z"
   },
   {
    "duration": 281,
    "start_time": "2023-06-30T22:48:54.153Z"
   },
   {
    "duration": 3,
    "start_time": "2023-06-30T22:49:00.547Z"
   },
   {
    "duration": 192,
    "start_time": "2023-06-30T22:49:00.918Z"
   },
   {
    "duration": 184,
    "start_time": "2023-06-30T22:49:18.945Z"
   },
   {
    "duration": 170,
    "start_time": "2023-06-30T22:49:35.701Z"
   },
   {
    "duration": 10,
    "start_time": "2023-06-30T22:50:10.342Z"
   },
   {
    "duration": 129,
    "start_time": "2023-06-30T22:51:50.138Z"
   },
   {
    "duration": 118,
    "start_time": "2023-06-30T22:52:07.589Z"
   },
   {
    "duration": 237,
    "start_time": "2023-06-30T22:52:17.545Z"
   },
   {
    "duration": 145,
    "start_time": "2023-06-30T22:52:25.899Z"
   },
   {
    "duration": 254,
    "start_time": "2023-06-30T22:52:30.833Z"
   },
   {
    "duration": 220,
    "start_time": "2023-06-30T22:52:34.861Z"
   },
   {
    "duration": 228,
    "start_time": "2023-06-30T22:52:57.325Z"
   },
   {
    "duration": 324,
    "start_time": "2023-06-30T22:53:01.765Z"
   },
   {
    "duration": 217,
    "start_time": "2023-06-30T22:53:22.420Z"
   },
   {
    "duration": 109,
    "start_time": "2023-06-30T22:53:34.373Z"
   },
   {
    "duration": 122,
    "start_time": "2023-06-30T22:54:27.769Z"
   },
   {
    "duration": 138,
    "start_time": "2023-06-30T22:55:31.482Z"
   },
   {
    "duration": 435,
    "start_time": "2023-06-30T22:56:44.248Z"
   },
   {
    "duration": 154,
    "start_time": "2023-06-30T22:57:02.965Z"
   },
   {
    "duration": 162,
    "start_time": "2023-06-30T22:57:06.610Z"
   },
   {
    "duration": 134,
    "start_time": "2023-06-30T22:57:57.179Z"
   },
   {
    "duration": 187,
    "start_time": "2023-06-30T22:59:07.436Z"
   },
   {
    "duration": 174,
    "start_time": "2023-06-30T22:59:37.513Z"
   },
   {
    "duration": 268,
    "start_time": "2023-06-30T22:59:45.029Z"
   },
   {
    "duration": 158,
    "start_time": "2023-06-30T22:59:53.902Z"
   },
   {
    "duration": 10,
    "start_time": "2023-06-30T23:00:17.138Z"
   },
   {
    "duration": 404,
    "start_time": "2023-06-30T23:00:22.459Z"
   },
   {
    "duration": 166,
    "start_time": "2023-06-30T23:01:53.366Z"
   },
   {
    "duration": 158,
    "start_time": "2023-06-30T23:02:38.653Z"
   },
   {
    "duration": 5,
    "start_time": "2023-06-30T23:03:23.998Z"
   },
   {
    "duration": 4,
    "start_time": "2023-06-30T23:03:27.960Z"
   },
   {
    "duration": 217,
    "start_time": "2023-06-30T23:03:37.494Z"
   },
   {
    "duration": 197,
    "start_time": "2023-06-30T23:04:02.691Z"
   },
   {
    "duration": 188,
    "start_time": "2023-06-30T23:04:49.999Z"
   },
   {
    "duration": 172,
    "start_time": "2023-06-30T23:05:57.650Z"
   },
   {
    "duration": 238,
    "start_time": "2023-06-30T23:06:04.428Z"
   },
   {
    "duration": 6,
    "start_time": "2023-06-30T23:12:18.883Z"
   },
   {
    "duration": 8,
    "start_time": "2023-06-30T23:13:19.600Z"
   },
   {
    "duration": 5,
    "start_time": "2023-06-30T23:15:00.496Z"
   },
   {
    "duration": 11,
    "start_time": "2023-06-30T23:16:03.059Z"
   },
   {
    "duration": 288,
    "start_time": "2023-06-30T23:16:19.770Z"
   },
   {
    "duration": 4,
    "start_time": "2023-06-30T23:16:36.164Z"
   },
   {
    "duration": 3,
    "start_time": "2023-06-30T23:16:41.228Z"
   },
   {
    "duration": 124,
    "start_time": "2023-06-30T23:17:06.727Z"
   },
   {
    "duration": 100,
    "start_time": "2023-06-30T23:18:29.484Z"
   },
   {
    "duration": 100,
    "start_time": "2023-06-30T23:18:43.904Z"
   },
   {
    "duration": 120,
    "start_time": "2023-06-30T23:18:49.245Z"
   },
   {
    "duration": 114,
    "start_time": "2023-06-30T23:19:19.008Z"
   },
   {
    "duration": 76,
    "start_time": "2023-06-30T23:20:54.919Z"
   },
   {
    "duration": 118,
    "start_time": "2023-06-30T23:21:20.483Z"
   },
   {
    "duration": 68,
    "start_time": "2023-06-30T23:23:48.364Z"
   },
   {
    "duration": 64,
    "start_time": "2023-06-30T23:23:53.973Z"
   },
   {
    "duration": 55,
    "start_time": "2023-06-30T23:26:46.483Z"
   },
   {
    "duration": 88,
    "start_time": "2023-06-30T23:27:05.048Z"
   },
   {
    "duration": 106,
    "start_time": "2023-06-30T23:27:34.428Z"
   },
   {
    "duration": 79,
    "start_time": "2023-06-30T23:28:16.933Z"
   },
   {
    "duration": 102,
    "start_time": "2023-06-30T23:28:28.835Z"
   },
   {
    "duration": 95,
    "start_time": "2023-06-30T23:29:01.737Z"
   },
   {
    "duration": 15,
    "start_time": "2023-06-30T23:29:52.776Z"
   },
   {
    "duration": 17,
    "start_time": "2023-06-30T23:30:02.292Z"
   },
   {
    "duration": 77,
    "start_time": "2023-06-30T23:30:11.146Z"
   },
   {
    "duration": 91,
    "start_time": "2023-06-30T23:32:57.448Z"
   },
   {
    "duration": 179,
    "start_time": "2023-06-30T23:33:18.793Z"
   },
   {
    "duration": 4,
    "start_time": "2023-06-30T23:36:01.249Z"
   },
   {
    "duration": 11,
    "start_time": "2023-06-30T23:38:53.479Z"
   },
   {
    "duration": 66,
    "start_time": "2023-06-30T23:39:20.305Z"
   },
   {
    "duration": 75,
    "start_time": "2023-06-30T23:39:56.633Z"
   },
   {
    "duration": 73,
    "start_time": "2023-06-30T23:40:04.851Z"
   },
   {
    "duration": 72,
    "start_time": "2023-06-30T23:43:23.300Z"
   },
   {
    "duration": 9,
    "start_time": "2023-06-30T23:50:30.242Z"
   },
   {
    "duration": 16,
    "start_time": "2023-06-30T23:53:46.331Z"
   },
   {
    "duration": 11,
    "start_time": "2023-06-30T23:55:52.613Z"
   },
   {
    "duration": 11,
    "start_time": "2023-06-30T23:56:00.702Z"
   },
   {
    "duration": 10,
    "start_time": "2023-06-30T23:56:13.786Z"
   },
   {
    "duration": 9,
    "start_time": "2023-06-30T23:57:41.326Z"
   },
   {
    "duration": 9,
    "start_time": "2023-06-30T23:58:42.190Z"
   },
   {
    "duration": 8,
    "start_time": "2023-06-30T23:59:01.037Z"
   },
   {
    "duration": 9,
    "start_time": "2023-06-30T23:59:36.239Z"
   },
   {
    "duration": 1144,
    "start_time": "2023-06-30T23:59:52.715Z"
   },
   {
    "duration": 67,
    "start_time": "2023-06-30T23:59:53.861Z"
   },
   {
    "duration": 19,
    "start_time": "2023-06-30T23:59:53.929Z"
   },
   {
    "duration": 22,
    "start_time": "2023-06-30T23:59:53.950Z"
   },
   {
    "duration": 22,
    "start_time": "2023-06-30T23:59:53.974Z"
   },
   {
    "duration": 24,
    "start_time": "2023-06-30T23:59:53.998Z"
   },
   {
    "duration": 14,
    "start_time": "2023-06-30T23:59:54.024Z"
   },
   {
    "duration": 23,
    "start_time": "2023-06-30T23:59:54.039Z"
   },
   {
    "duration": 13,
    "start_time": "2023-06-30T23:59:54.063Z"
   },
   {
    "duration": 9,
    "start_time": "2023-06-30T23:59:54.078Z"
   },
   {
    "duration": 183,
    "start_time": "2023-06-30T23:59:54.088Z"
   },
   {
    "duration": 5,
    "start_time": "2023-06-30T23:59:54.272Z"
   },
   {
    "duration": 101,
    "start_time": "2023-06-30T23:59:54.278Z"
   },
   {
    "duration": 211,
    "start_time": "2023-06-30T23:59:54.380Z"
   },
   {
    "duration": 372,
    "start_time": "2023-06-30T23:59:54.593Z"
   },
   {
    "duration": 0,
    "start_time": "2023-06-30T23:59:54.967Z"
   },
   {
    "duration": 7,
    "start_time": "2023-07-01T00:00:14.470Z"
   },
   {
    "duration": 11,
    "start_time": "2023-07-01T00:01:30.225Z"
   },
   {
    "duration": 8,
    "start_time": "2023-07-01T00:01:38.291Z"
   },
   {
    "duration": 287,
    "start_time": "2023-07-01T00:03:48.624Z"
   },
   {
    "duration": 246,
    "start_time": "2023-07-01T00:04:07.187Z"
   },
   {
    "duration": 330,
    "start_time": "2023-07-01T00:04:17.416Z"
   },
   {
    "duration": 249,
    "start_time": "2023-07-01T00:04:45.790Z"
   },
   {
    "duration": 262,
    "start_time": "2023-07-01T00:06:44.662Z"
   },
   {
    "duration": 313,
    "start_time": "2023-07-01T00:06:53.425Z"
   },
   {
    "duration": 266,
    "start_time": "2023-07-01T00:06:57.046Z"
   },
   {
    "duration": 391,
    "start_time": "2023-07-01T00:07:04.777Z"
   },
   {
    "duration": 367,
    "start_time": "2023-07-01T00:07:10.442Z"
   },
   {
    "duration": 433,
    "start_time": "2023-07-01T00:07:58.298Z"
   },
   {
    "duration": 510,
    "start_time": "2023-07-01T00:08:06.173Z"
   },
   {
    "duration": 563,
    "start_time": "2023-07-01T00:08:15.617Z"
   },
   {
    "duration": 5,
    "start_time": "2023-07-01T00:08:39.914Z"
   },
   {
    "duration": 450,
    "start_time": "2023-07-01T00:09:18.091Z"
   },
   {
    "duration": 6,
    "start_time": "2023-07-01T00:10:19.215Z"
   },
   {
    "duration": 461,
    "start_time": "2023-07-01T00:14:10.481Z"
   },
   {
    "duration": 5,
    "start_time": "2023-07-01T00:14:43.191Z"
   },
   {
    "duration": 5,
    "start_time": "2023-07-01T00:14:52.863Z"
   },
   {
    "duration": 496,
    "start_time": "2023-07-01T00:15:06.515Z"
   },
   {
    "duration": 432,
    "start_time": "2023-07-01T00:15:14.374Z"
   },
   {
    "duration": 276,
    "start_time": "2023-07-01T00:15:28.392Z"
   },
   {
    "duration": 179,
    "start_time": "2023-07-01T00:15:53.240Z"
   },
   {
    "duration": 304,
    "start_time": "2023-07-01T00:16:04.577Z"
   },
   {
    "duration": 6,
    "start_time": "2023-07-01T00:16:25.228Z"
   },
   {
    "duration": 284,
    "start_time": "2023-07-01T00:16:28.881Z"
   },
   {
    "duration": 267,
    "start_time": "2023-07-01T00:16:39.068Z"
   },
   {
    "duration": 4,
    "start_time": "2023-07-01T00:17:10.619Z"
   },
   {
    "duration": 5,
    "start_time": "2023-07-01T00:17:15.910Z"
   },
   {
    "duration": 3,
    "start_time": "2023-07-01T00:17:55.234Z"
   },
   {
    "duration": 4,
    "start_time": "2023-07-01T00:18:01.599Z"
   },
   {
    "duration": 4,
    "start_time": "2023-07-01T00:18:26.992Z"
   },
   {
    "duration": 4,
    "start_time": "2023-07-01T00:18:33.020Z"
   },
   {
    "duration": 7,
    "start_time": "2023-07-01T00:28:50.823Z"
   },
   {
    "duration": 8,
    "start_time": "2023-07-01T00:29:05.344Z"
   },
   {
    "duration": 9,
    "start_time": "2023-07-01T00:29:15.128Z"
   },
   {
    "duration": 9,
    "start_time": "2023-07-01T00:30:34.265Z"
   },
   {
    "duration": 16,
    "start_time": "2023-07-01T00:30:43.769Z"
   },
   {
    "duration": 9,
    "start_time": "2023-07-01T00:31:37.571Z"
   },
   {
    "duration": 20,
    "start_time": "2023-07-01T00:31:48.398Z"
   },
   {
    "duration": 27,
    "start_time": "2023-07-01T00:34:17.404Z"
   },
   {
    "duration": 15,
    "start_time": "2023-07-01T00:35:22.335Z"
   },
   {
    "duration": 22,
    "start_time": "2023-07-01T00:36:02.505Z"
   },
   {
    "duration": 6,
    "start_time": "2023-07-01T00:36:27.858Z"
   },
   {
    "duration": 19,
    "start_time": "2023-07-01T00:36:33.046Z"
   },
   {
    "duration": 553,
    "start_time": "2023-07-01T00:39:18.260Z"
   },
   {
    "duration": 442,
    "start_time": "2023-07-01T00:39:31.593Z"
   },
   {
    "duration": 421,
    "start_time": "2023-07-01T00:40:08.513Z"
   },
   {
    "duration": 365,
    "start_time": "2023-07-01T00:42:11.554Z"
   },
   {
    "duration": 5,
    "start_time": "2023-07-01T00:42:30.521Z"
   },
   {
    "duration": 5,
    "start_time": "2023-07-01T00:42:45.036Z"
   },
   {
    "duration": 202,
    "start_time": "2023-07-01T00:42:56.178Z"
   },
   {
    "duration": 208,
    "start_time": "2023-07-01T00:43:16.244Z"
   },
   {
    "duration": 610,
    "start_time": "2023-07-01T00:44:35.721Z"
   },
   {
    "duration": 214,
    "start_time": "2023-07-01T00:44:39.051Z"
   },
   {
    "duration": 5,
    "start_time": "2023-07-01T00:44:55.511Z"
   },
   {
    "duration": 4,
    "start_time": "2023-07-01T00:45:18.044Z"
   },
   {
    "duration": 197,
    "start_time": "2023-07-01T00:45:26.998Z"
   },
   {
    "duration": 10,
    "start_time": "2023-07-01T00:45:54.526Z"
   },
   {
    "duration": 6,
    "start_time": "2023-07-01T00:46:14.649Z"
   },
   {
    "duration": 420,
    "start_time": "2023-07-01T00:46:23.266Z"
   },
   {
    "duration": 465,
    "start_time": "2023-07-01T00:46:35.216Z"
   },
   {
    "duration": 543,
    "start_time": "2023-07-01T00:46:41.277Z"
   },
   {
    "duration": 19,
    "start_time": "2023-07-01T00:49:09.538Z"
   },
   {
    "duration": 63,
    "start_time": "2023-07-01T00:54:05.067Z"
   },
   {
    "duration": 22,
    "start_time": "2023-07-01T00:55:51.021Z"
   },
   {
    "duration": 13,
    "start_time": "2023-07-01T00:55:58.554Z"
   },
   {
    "duration": 28,
    "start_time": "2023-07-01T00:59:42.573Z"
   },
   {
    "duration": 39,
    "start_time": "2023-07-01T00:59:43.973Z"
   },
   {
    "duration": 20,
    "start_time": "2023-07-01T01:00:28.931Z"
   },
   {
    "duration": 34,
    "start_time": "2023-07-01T01:00:29.477Z"
   },
   {
    "duration": 79,
    "start_time": "2023-07-01T01:01:13.395Z"
   },
   {
    "duration": 26,
    "start_time": "2023-07-01T01:01:19.764Z"
   },
   {
    "duration": 36,
    "start_time": "2023-07-01T01:01:20.645Z"
   },
   {
    "duration": 42,
    "start_time": "2023-07-01T01:04:16.924Z"
   },
   {
    "duration": 20,
    "start_time": "2023-07-01T01:04:58.555Z"
   },
   {
    "duration": 15,
    "start_time": "2023-07-01T01:04:59.285Z"
   },
   {
    "duration": 15,
    "start_time": "2023-07-01T01:06:01.331Z"
   },
   {
    "duration": 14,
    "start_time": "2023-07-01T01:06:02.060Z"
   },
   {
    "duration": 15,
    "start_time": "2023-07-01T01:06:24.515Z"
   },
   {
    "duration": 13,
    "start_time": "2023-07-01T01:06:24.836Z"
   },
   {
    "duration": 13,
    "start_time": "2023-07-01T01:07:40.380Z"
   },
   {
    "duration": 1082,
    "start_time": "2023-07-01T01:10:19.076Z"
   },
   {
    "duration": 66,
    "start_time": "2023-07-01T01:10:20.160Z"
   },
   {
    "duration": 19,
    "start_time": "2023-07-01T01:10:20.228Z"
   },
   {
    "duration": 24,
    "start_time": "2023-07-01T01:10:20.248Z"
   },
   {
    "duration": 16,
    "start_time": "2023-07-01T01:10:20.273Z"
   },
   {
    "duration": 21,
    "start_time": "2023-07-01T01:10:20.291Z"
   },
   {
    "duration": 21,
    "start_time": "2023-07-01T01:10:20.314Z"
   },
   {
    "duration": 26,
    "start_time": "2023-07-01T01:10:20.336Z"
   },
   {
    "duration": 11,
    "start_time": "2023-07-01T01:10:20.363Z"
   },
   {
    "duration": 5,
    "start_time": "2023-07-01T01:10:20.377Z"
   },
   {
    "duration": 196,
    "start_time": "2023-07-01T01:10:20.383Z"
   },
   {
    "duration": 6,
    "start_time": "2023-07-01T01:10:20.581Z"
   },
   {
    "duration": 133,
    "start_time": "2023-07-01T01:10:20.588Z"
   },
   {
    "duration": 196,
    "start_time": "2023-07-01T01:10:20.723Z"
   },
   {
    "duration": 11,
    "start_time": "2023-07-01T01:10:20.921Z"
   },
   {
    "duration": 469,
    "start_time": "2023-07-01T01:10:20.934Z"
   },
   {
    "duration": 6,
    "start_time": "2023-07-01T01:10:21.405Z"
   },
   {
    "duration": 299,
    "start_time": "2023-07-01T01:10:21.412Z"
   },
   {
    "duration": 4,
    "start_time": "2023-07-01T01:10:21.712Z"
   },
   {
    "duration": 39,
    "start_time": "2023-07-01T01:10:21.717Z"
   },
   {
    "duration": 21,
    "start_time": "2023-07-01T01:10:21.758Z"
   },
   {
    "duration": 43,
    "start_time": "2023-07-01T01:10:21.780Z"
   },
   {
    "duration": 27,
    "start_time": "2023-07-01T01:10:21.825Z"
   },
   {
    "duration": 494,
    "start_time": "2023-07-01T01:10:21.854Z"
   },
   {
    "duration": 5,
    "start_time": "2023-07-01T01:10:22.350Z"
   },
   {
    "duration": 217,
    "start_time": "2023-07-01T01:10:22.357Z"
   },
   {
    "duration": 21,
    "start_time": "2023-07-01T01:10:22.576Z"
   },
   {
    "duration": 3,
    "start_time": "2023-07-01T01:10:22.601Z"
   },
   {
    "duration": 8,
    "start_time": "2023-07-01T01:10:22.606Z"
   },
   {
    "duration": 411,
    "start_time": "2023-07-01T01:10:22.631Z"
   },
   {
    "duration": 5,
    "start_time": "2023-07-01T01:10:23.044Z"
   },
   {
    "duration": 78,
    "start_time": "2023-07-01T01:10:23.051Z"
   },
   {
    "duration": 207,
    "start_time": "2023-07-01T01:10:23.131Z"
   },
   {
    "duration": 19,
    "start_time": "2023-07-01T01:10:23.340Z"
   },
   {
    "duration": 22,
    "start_time": "2023-07-01T01:10:23.362Z"
   },
   {
    "duration": 48,
    "start_time": "2023-07-01T01:10:23.385Z"
   },
   {
    "duration": 14,
    "start_time": "2023-07-01T01:13:08.365Z"
   },
   {
    "duration": 13,
    "start_time": "2023-07-01T01:13:14.748Z"
   },
   {
    "duration": 14,
    "start_time": "2023-07-01T01:13:47.637Z"
   },
   {
    "duration": 14,
    "start_time": "2023-07-01T01:14:02.460Z"
   },
   {
    "duration": 4,
    "start_time": "2023-07-01T01:17:13.332Z"
   },
   {
    "duration": 16,
    "start_time": "2023-07-01T01:18:16.634Z"
   },
   {
    "duration": 3,
    "start_time": "2023-07-01T01:18:26.701Z"
   },
   {
    "duration": 18,
    "start_time": "2023-07-01T01:18:30.029Z"
   },
   {
    "duration": 25,
    "start_time": "2023-07-01T01:19:20.949Z"
   },
   {
    "duration": 5,
    "start_time": "2023-07-01T01:23:19.167Z"
   },
   {
    "duration": 14,
    "start_time": "2023-07-01T01:23:31.174Z"
   },
   {
    "duration": 64,
    "start_time": "2023-07-02T11:58:49.021Z"
   },
   {
    "duration": 2288,
    "start_time": "2023-07-02T11:58:58.643Z"
   },
   {
    "duration": 243,
    "start_time": "2023-07-02T11:59:00.933Z"
   },
   {
    "duration": 26,
    "start_time": "2023-07-02T11:59:01.180Z"
   },
   {
    "duration": 39,
    "start_time": "2023-07-02T11:59:01.208Z"
   },
   {
    "duration": 54,
    "start_time": "2023-07-02T11:59:01.249Z"
   },
   {
    "duration": 33,
    "start_time": "2023-07-02T11:59:01.305Z"
   },
   {
    "duration": 62,
    "start_time": "2023-07-02T11:59:01.340Z"
   },
   {
    "duration": 22,
    "start_time": "2023-07-02T11:59:01.404Z"
   },
   {
    "duration": 60,
    "start_time": "2023-07-02T11:59:01.427Z"
   },
   {
    "duration": 25,
    "start_time": "2023-07-02T11:59:01.490Z"
   },
   {
    "duration": 258,
    "start_time": "2023-07-02T11:59:01.517Z"
   },
   {
    "duration": 12,
    "start_time": "2023-07-02T11:59:01.776Z"
   },
   {
    "duration": 191,
    "start_time": "2023-07-02T11:59:01.790Z"
   },
   {
    "duration": 255,
    "start_time": "2023-07-02T11:59:01.983Z"
   },
   {
    "duration": 27,
    "start_time": "2023-07-02T11:59:02.240Z"
   },
   {
    "duration": 632,
    "start_time": "2023-07-02T11:59:02.278Z"
   },
   {
    "duration": 7,
    "start_time": "2023-07-02T11:59:02.912Z"
   },
   {
    "duration": 376,
    "start_time": "2023-07-02T11:59:02.920Z"
   },
   {
    "duration": 4,
    "start_time": "2023-07-02T11:59:03.298Z"
   },
   {
    "duration": 13,
    "start_time": "2023-07-02T11:59:03.304Z"
   },
   {
    "duration": 50,
    "start_time": "2023-07-02T11:59:03.319Z"
   },
   {
    "duration": 41,
    "start_time": "2023-07-02T11:59:03.378Z"
   },
   {
    "duration": 86,
    "start_time": "2023-07-02T11:59:03.420Z"
   },
   {
    "duration": 637,
    "start_time": "2023-07-02T11:59:03.508Z"
   },
   {
    "duration": 15,
    "start_time": "2023-07-02T11:59:04.151Z"
   },
   {
    "duration": 261,
    "start_time": "2023-07-02T11:59:04.174Z"
   },
   {
    "duration": 41,
    "start_time": "2023-07-02T11:59:04.436Z"
   },
   {
    "duration": 18,
    "start_time": "2023-07-02T11:59:04.481Z"
   },
   {
    "duration": 6,
    "start_time": "2023-07-02T11:59:04.500Z"
   },
   {
    "duration": 530,
    "start_time": "2023-07-02T11:59:04.508Z"
   },
   {
    "duration": 14,
    "start_time": "2023-07-02T11:59:05.039Z"
   },
   {
    "duration": 38,
    "start_time": "2023-07-02T11:59:05.054Z"
   },
   {
    "duration": 261,
    "start_time": "2023-07-02T11:59:05.094Z"
   },
   {
    "duration": 38,
    "start_time": "2023-07-02T11:59:05.358Z"
   },
   {
    "duration": 29,
    "start_time": "2023-07-02T11:59:05.398Z"
   },
   {
    "duration": 32,
    "start_time": "2023-07-02T11:59:05.430Z"
   },
   {
    "duration": 16,
    "start_time": "2023-07-02T11:59:05.468Z"
   },
   {
    "duration": 28,
    "start_time": "2023-07-02T11:59:05.486Z"
   },
   {
    "duration": 20,
    "start_time": "2023-07-02T12:04:24.598Z"
   },
   {
    "duration": 5,
    "start_time": "2023-07-02T12:05:02.811Z"
   },
   {
    "duration": 5,
    "start_time": "2023-07-02T12:05:10.534Z"
   },
   {
    "duration": 5,
    "start_time": "2023-07-02T12:05:10.941Z"
   },
   {
    "duration": 6,
    "start_time": "2023-07-02T12:07:48.236Z"
   },
   {
    "duration": 976,
    "start_time": "2023-07-02T12:07:52.662Z"
   },
   {
    "duration": 820,
    "start_time": "2023-07-02T12:07:55.793Z"
   },
   {
    "duration": 915,
    "start_time": "2023-07-02T12:08:14.995Z"
   },
   {
    "duration": 992,
    "start_time": "2023-07-02T12:21:10.724Z"
   },
   {
    "duration": 49,
    "start_time": "2023-07-02T12:23:16.556Z"
   },
   {
    "duration": 32,
    "start_time": "2023-07-02T12:23:43.150Z"
   },
   {
    "duration": 6,
    "start_time": "2023-07-02T12:23:46.784Z"
   },
   {
    "duration": 6,
    "start_time": "2023-07-02T12:23:48.721Z"
   },
   {
    "duration": 657,
    "start_time": "2023-07-02T12:23:49.940Z"
   },
   {
    "duration": 91,
    "start_time": "2023-07-02T12:24:30.393Z"
   },
   {
    "duration": 1235,
    "start_time": "2023-07-02T12:24:39.999Z"
   },
   {
    "duration": 46,
    "start_time": "2023-07-02T12:25:22.290Z"
   },
   {
    "duration": 729,
    "start_time": "2023-07-02T12:25:25.589Z"
   },
   {
    "duration": 25,
    "start_time": "2023-07-02T12:26:06.091Z"
   },
   {
    "duration": 45,
    "start_time": "2023-07-02T12:26:39.472Z"
   },
   {
    "duration": 35,
    "start_time": "2023-07-02T12:27:05.404Z"
   },
   {
    "duration": 17,
    "start_time": "2023-07-02T12:31:39.494Z"
   },
   {
    "duration": 25,
    "start_time": "2023-07-02T12:31:41.821Z"
   },
   {
    "duration": 21,
    "start_time": "2023-07-02T12:31:42.180Z"
   },
   {
    "duration": 18,
    "start_time": "2023-07-02T12:32:44.183Z"
   },
   {
    "duration": 22,
    "start_time": "2023-07-02T12:32:50.429Z"
   },
   {
    "duration": 20,
    "start_time": "2023-07-02T12:32:50.993Z"
   },
   {
    "duration": 25,
    "start_time": "2023-07-02T12:34:24.372Z"
   },
   {
    "duration": 19,
    "start_time": "2023-07-02T12:35:46.281Z"
   },
   {
    "duration": 16,
    "start_time": "2023-07-02T12:35:46.704Z"
   },
   {
    "duration": 1110,
    "start_time": "2023-07-02T12:40:48.703Z"
   },
   {
    "duration": 45,
    "start_time": "2023-07-02T12:40:49.816Z"
   },
   {
    "duration": 1626,
    "start_time": "2023-07-02T12:43:28.311Z"
   },
   {
    "duration": 105,
    "start_time": "2023-07-02T12:43:29.939Z"
   },
   {
    "duration": 47,
    "start_time": "2023-07-02T12:43:30.047Z"
   },
   {
    "duration": 58,
    "start_time": "2023-07-02T12:43:30.099Z"
   },
   {
    "duration": 54,
    "start_time": "2023-07-02T12:43:30.161Z"
   },
   {
    "duration": 91,
    "start_time": "2023-07-02T12:43:30.218Z"
   },
   {
    "duration": 31,
    "start_time": "2023-07-02T12:43:30.311Z"
   },
   {
    "duration": 100,
    "start_time": "2023-07-02T12:43:30.344Z"
   },
   {
    "duration": 107,
    "start_time": "2023-07-02T12:43:30.446Z"
   },
   {
    "duration": 72,
    "start_time": "2023-07-02T12:43:30.557Z"
   },
   {
    "duration": 385,
    "start_time": "2023-07-02T12:43:30.632Z"
   },
   {
    "duration": 8,
    "start_time": "2023-07-02T12:43:31.019Z"
   },
   {
    "duration": 170,
    "start_time": "2023-07-02T12:43:31.029Z"
   },
   {
    "duration": 336,
    "start_time": "2023-07-02T12:43:31.201Z"
   },
   {
    "duration": 19,
    "start_time": "2023-07-02T12:43:31.541Z"
   },
   {
    "duration": 803,
    "start_time": "2023-07-02T12:43:31.563Z"
   },
   {
    "duration": 7,
    "start_time": "2023-07-02T12:43:32.368Z"
   },
   {
    "duration": 478,
    "start_time": "2023-07-02T12:43:32.376Z"
   },
   {
    "duration": 12,
    "start_time": "2023-07-02T12:43:32.859Z"
   },
   {
    "duration": 66,
    "start_time": "2023-07-02T12:43:32.879Z"
   },
   {
    "duration": 16,
    "start_time": "2023-07-02T12:43:32.947Z"
   },
   {
    "duration": 78,
    "start_time": "2023-07-02T12:43:32.965Z"
   },
   {
    "duration": 39,
    "start_time": "2023-07-02T12:43:33.045Z"
   },
   {
    "duration": 874,
    "start_time": "2023-07-02T12:43:33.086Z"
   },
   {
    "duration": 7,
    "start_time": "2023-07-02T12:43:33.963Z"
   },
   {
    "duration": 324,
    "start_time": "2023-07-02T12:43:33.973Z"
   },
   {
    "duration": 24,
    "start_time": "2023-07-02T12:43:34.304Z"
   },
   {
    "duration": 8,
    "start_time": "2023-07-02T12:43:34.331Z"
   },
   {
    "duration": 66,
    "start_time": "2023-07-02T12:43:34.341Z"
   },
   {
    "duration": 567,
    "start_time": "2023-07-02T12:43:34.409Z"
   },
   {
    "duration": 11,
    "start_time": "2023-07-02T12:43:34.981Z"
   },
   {
    "duration": 27,
    "start_time": "2023-07-02T12:43:34.995Z"
   },
   {
    "duration": 296,
    "start_time": "2023-07-02T12:43:35.025Z"
   },
   {
    "duration": 46,
    "start_time": "2023-07-02T12:43:35.324Z"
   },
   {
    "duration": 1114,
    "start_time": "2023-07-02T12:43:35.384Z"
   },
   {
    "duration": 24,
    "start_time": "2023-07-02T12:43:36.507Z"
   },
   {
    "duration": 1070,
    "start_time": "2023-07-02T12:44:16.552Z"
   },
   {
    "duration": 39,
    "start_time": "2023-07-02T12:44:21.578Z"
   },
   {
    "duration": 1181,
    "start_time": "2023-07-02T12:44:22.865Z"
   },
   {
    "duration": 35,
    "start_time": "2023-07-02T12:44:37.638Z"
   },
   {
    "duration": 1241,
    "start_time": "2023-07-02T12:44:38.615Z"
   },
   {
    "duration": 1527,
    "start_time": "2023-07-02T12:45:00.350Z"
   },
   {
    "duration": 112,
    "start_time": "2023-07-02T12:45:01.890Z"
   },
   {
    "duration": 33,
    "start_time": "2023-07-02T12:45:02.005Z"
   },
   {
    "duration": 55,
    "start_time": "2023-07-02T12:45:02.042Z"
   },
   {
    "duration": 59,
    "start_time": "2023-07-02T12:45:02.110Z"
   },
   {
    "duration": 57,
    "start_time": "2023-07-02T12:45:02.178Z"
   },
   {
    "duration": 51,
    "start_time": "2023-07-02T12:45:02.238Z"
   },
   {
    "duration": 48,
    "start_time": "2023-07-02T12:45:02.290Z"
   },
   {
    "duration": 82,
    "start_time": "2023-07-02T12:45:02.340Z"
   },
   {
    "duration": 141,
    "start_time": "2023-07-02T12:45:02.424Z"
   },
   {
    "duration": 424,
    "start_time": "2023-07-02T12:45:02.573Z"
   },
   {
    "duration": 16,
    "start_time": "2023-07-02T12:45:03.003Z"
   },
   {
    "duration": 209,
    "start_time": "2023-07-02T12:45:03.022Z"
   },
   {
    "duration": 440,
    "start_time": "2023-07-02T12:45:03.237Z"
   },
   {
    "duration": 12,
    "start_time": "2023-07-02T12:45:03.693Z"
   },
   {
    "duration": 798,
    "start_time": "2023-07-02T12:45:03.708Z"
   },
   {
    "duration": 9,
    "start_time": "2023-07-02T12:45:04.512Z"
   },
   {
    "duration": 505,
    "start_time": "2023-07-02T12:45:04.523Z"
   },
   {
    "duration": 8,
    "start_time": "2023-07-02T12:45:05.030Z"
   },
   {
    "duration": 65,
    "start_time": "2023-07-02T12:45:05.053Z"
   },
   {
    "duration": 17,
    "start_time": "2023-07-02T12:45:05.121Z"
   },
   {
    "duration": 44,
    "start_time": "2023-07-02T12:45:05.142Z"
   },
   {
    "duration": 66,
    "start_time": "2023-07-02T12:45:05.189Z"
   },
   {
    "duration": 834,
    "start_time": "2023-07-02T12:45:05.258Z"
   },
   {
    "duration": 8,
    "start_time": "2023-07-02T12:45:06.095Z"
   },
   {
    "duration": 314,
    "start_time": "2023-07-02T12:45:06.105Z"
   },
   {
    "duration": 58,
    "start_time": "2023-07-02T12:45:06.422Z"
   },
   {
    "duration": 6,
    "start_time": "2023-07-02T12:45:06.482Z"
   },
   {
    "duration": 27,
    "start_time": "2023-07-02T12:45:06.490Z"
   },
   {
    "duration": 612,
    "start_time": "2023-07-02T12:45:06.519Z"
   },
   {
    "duration": 6,
    "start_time": "2023-07-02T12:45:07.133Z"
   },
   {
    "duration": 30,
    "start_time": "2023-07-02T12:45:07.159Z"
   },
   {
    "duration": 340,
    "start_time": "2023-07-02T12:45:07.199Z"
   },
   {
    "duration": 36,
    "start_time": "2023-07-02T12:45:07.541Z"
   },
   {
    "duration": 1103,
    "start_time": "2023-07-02T12:45:07.580Z"
   },
   {
    "duration": 1021,
    "start_time": "2023-07-02T12:45:13.743Z"
   },
   {
    "duration": 20,
    "start_time": "2023-07-02T12:46:00.015Z"
   },
   {
    "duration": 19,
    "start_time": "2023-07-02T12:46:11.800Z"
   },
   {
    "duration": 21,
    "start_time": "2023-07-02T12:46:47.023Z"
   },
   {
    "duration": 27,
    "start_time": "2023-07-02T12:47:44.344Z"
   },
   {
    "duration": 184,
    "start_time": "2023-07-02T12:49:49.308Z"
   },
   {
    "duration": 8,
    "start_time": "2023-07-02T12:49:58.179Z"
   },
   {
    "duration": 73,
    "start_time": "2023-07-02T13:02:08.128Z"
   },
   {
    "duration": 58,
    "start_time": "2023-07-02T13:02:14.172Z"
   },
   {
    "duration": 81,
    "start_time": "2023-07-02T13:02:55.148Z"
   },
   {
    "duration": 260,
    "start_time": "2023-07-02T13:02:59.508Z"
   },
   {
    "duration": 191,
    "start_time": "2023-07-02T13:05:04.028Z"
   },
   {
    "duration": 24,
    "start_time": "2023-07-02T13:07:07.708Z"
   },
   {
    "duration": 8,
    "start_time": "2023-07-02T13:07:36.875Z"
   },
   {
    "duration": 3,
    "start_time": "2023-07-02T13:07:51.240Z"
   },
   {
    "duration": 17,
    "start_time": "2023-07-02T13:07:55.150Z"
   },
   {
    "duration": 19,
    "start_time": "2023-07-02T13:08:12.746Z"
   },
   {
    "duration": 14,
    "start_time": "2023-07-02T13:10:16.752Z"
   },
   {
    "duration": 26,
    "start_time": "2023-07-02T13:32:08.745Z"
   },
   {
    "duration": 8,
    "start_time": "2023-07-02T13:32:47.339Z"
   },
   {
    "duration": 1468,
    "start_time": "2023-07-02T13:32:57.700Z"
   },
   {
    "duration": 115,
    "start_time": "2023-07-02T13:32:59.170Z"
   },
   {
    "duration": 24,
    "start_time": "2023-07-02T13:32:59.287Z"
   },
   {
    "duration": 33,
    "start_time": "2023-07-02T13:32:59.314Z"
   },
   {
    "duration": 30,
    "start_time": "2023-07-02T13:32:59.355Z"
   },
   {
    "duration": 25,
    "start_time": "2023-07-02T13:32:59.388Z"
   },
   {
    "duration": 7,
    "start_time": "2023-07-02T13:32:59.415Z"
   },
   {
    "duration": 10,
    "start_time": "2023-07-02T13:32:59.424Z"
   },
   {
    "duration": 16,
    "start_time": "2023-07-02T13:32:59.437Z"
   },
   {
    "duration": 8,
    "start_time": "2023-07-02T13:32:59.455Z"
   },
   {
    "duration": 261,
    "start_time": "2023-07-02T13:32:59.465Z"
   },
   {
    "duration": 7,
    "start_time": "2023-07-02T13:32:59.728Z"
   },
   {
    "duration": 104,
    "start_time": "2023-07-02T13:32:59.736Z"
   },
   {
    "duration": 265,
    "start_time": "2023-07-02T13:32:59.843Z"
   },
   {
    "duration": 5,
    "start_time": "2023-07-02T13:33:00.110Z"
   },
   {
    "duration": 722,
    "start_time": "2023-07-02T13:33:00.117Z"
   },
   {
    "duration": 14,
    "start_time": "2023-07-02T13:33:00.841Z"
   },
   {
    "duration": 471,
    "start_time": "2023-07-02T13:33:00.857Z"
   },
   {
    "duration": 7,
    "start_time": "2023-07-02T13:33:01.330Z"
   },
   {
    "duration": 146,
    "start_time": "2023-07-02T13:33:01.341Z"
   },
   {
    "duration": 63,
    "start_time": "2023-07-02T13:33:01.490Z"
   },
   {
    "duration": 76,
    "start_time": "2023-07-02T13:33:01.556Z"
   },
   {
    "duration": 91,
    "start_time": "2023-07-02T13:33:01.635Z"
   },
   {
    "duration": 749,
    "start_time": "2023-07-02T13:33:01.728Z"
   },
   {
    "duration": 9,
    "start_time": "2023-07-02T13:33:02.481Z"
   },
   {
    "duration": 406,
    "start_time": "2023-07-02T13:33:02.492Z"
   },
   {
    "duration": 23,
    "start_time": "2023-07-02T13:33:02.900Z"
   },
   {
    "duration": 5,
    "start_time": "2023-07-02T13:33:02.924Z"
   },
   {
    "duration": 27,
    "start_time": "2023-07-02T13:33:02.930Z"
   },
   {
    "duration": 576,
    "start_time": "2023-07-02T13:33:02.958Z"
   },
   {
    "duration": 5,
    "start_time": "2023-07-02T13:33:03.535Z"
   },
   {
    "duration": 10,
    "start_time": "2023-07-02T13:33:03.542Z"
   },
   {
    "duration": 289,
    "start_time": "2023-07-02T13:33:03.554Z"
   },
   {
    "duration": 22,
    "start_time": "2023-07-02T13:33:03.845Z"
   },
   {
    "duration": 997,
    "start_time": "2023-07-02T13:33:03.868Z"
   },
   {
    "duration": 33,
    "start_time": "2023-07-02T13:33:04.867Z"
   },
   {
    "duration": 215,
    "start_time": "2023-07-02T13:33:04.905Z"
   },
   {
    "duration": 0,
    "start_time": "2023-07-02T13:33:05.250Z"
   },
   {
    "duration": 19,
    "start_time": "2023-07-02T13:35:14.506Z"
   },
   {
    "duration": 7,
    "start_time": "2023-07-02T13:35:25.433Z"
   },
   {
    "duration": 19,
    "start_time": "2023-07-02T13:41:05.516Z"
   },
   {
    "duration": 21,
    "start_time": "2023-07-02T13:53:09.107Z"
   },
   {
    "duration": 6,
    "start_time": "2023-07-02T13:53:40.371Z"
   },
   {
    "duration": 44,
    "start_time": "2023-07-02T13:53:44.328Z"
   },
   {
    "duration": 24,
    "start_time": "2023-07-02T13:54:02.106Z"
   },
   {
    "duration": 22,
    "start_time": "2023-07-02T13:54:05.174Z"
   },
   {
    "duration": 19,
    "start_time": "2023-07-02T13:55:00.978Z"
   },
   {
    "duration": 5,
    "start_time": "2023-07-02T13:55:22.395Z"
   },
   {
    "duration": 25,
    "start_time": "2023-07-02T14:01:58.226Z"
   },
   {
    "duration": 1159,
    "start_time": "2023-07-02T14:07:35.575Z"
   },
   {
    "duration": 16,
    "start_time": "2023-07-02T14:22:44.931Z"
   },
   {
    "duration": 15,
    "start_time": "2023-07-02T14:22:47.511Z"
   },
   {
    "duration": 30,
    "start_time": "2023-07-02T14:22:57.834Z"
   },
   {
    "duration": 10,
    "start_time": "2023-07-02T14:23:44.442Z"
   },
   {
    "duration": 1276,
    "start_time": "2023-07-02T14:25:57.498Z"
   },
   {
    "duration": 14,
    "start_time": "2023-07-02T14:27:04.025Z"
   },
   {
    "duration": 20,
    "start_time": "2023-07-02T16:06:15.649Z"
   },
   {
    "duration": 1237,
    "start_time": "2023-07-02T16:08:02.736Z"
   },
   {
    "duration": 68,
    "start_time": "2023-07-02T16:08:03.975Z"
   },
   {
    "duration": 34,
    "start_time": "2023-07-02T16:08:04.044Z"
   },
   {
    "duration": 40,
    "start_time": "2023-07-02T16:08:04.081Z"
   },
   {
    "duration": 43,
    "start_time": "2023-07-02T16:08:04.124Z"
   },
   {
    "duration": 17,
    "start_time": "2023-07-02T16:08:04.169Z"
   },
   {
    "duration": 11,
    "start_time": "2023-07-02T16:08:04.188Z"
   },
   {
    "duration": 12,
    "start_time": "2023-07-02T16:08:04.200Z"
   },
   {
    "duration": 10,
    "start_time": "2023-07-02T16:08:04.214Z"
   },
   {
    "duration": 29,
    "start_time": "2023-07-02T16:08:04.228Z"
   },
   {
    "duration": 263,
    "start_time": "2023-07-02T16:08:04.259Z"
   },
   {
    "duration": 7,
    "start_time": "2023-07-02T16:08:04.524Z"
   },
   {
    "duration": 137,
    "start_time": "2023-07-02T16:08:04.532Z"
   },
   {
    "duration": 253,
    "start_time": "2023-07-02T16:08:04.670Z"
   },
   {
    "duration": 6,
    "start_time": "2023-07-02T16:08:04.925Z"
   },
   {
    "duration": 656,
    "start_time": "2023-07-02T16:08:04.933Z"
   },
   {
    "duration": 7,
    "start_time": "2023-07-02T16:08:05.591Z"
   },
   {
    "duration": 371,
    "start_time": "2023-07-02T16:08:05.600Z"
   },
   {
    "duration": 5,
    "start_time": "2023-07-02T16:08:05.973Z"
   },
   {
    "duration": 18,
    "start_time": "2023-07-02T16:08:05.980Z"
   },
   {
    "duration": 11,
    "start_time": "2023-07-02T16:08:06.000Z"
   },
   {
    "duration": 50,
    "start_time": "2023-07-02T16:08:06.012Z"
   },
   {
    "duration": 30,
    "start_time": "2023-07-02T16:08:06.068Z"
   },
   {
    "duration": 676,
    "start_time": "2023-07-02T16:08:06.100Z"
   },
   {
    "duration": 6,
    "start_time": "2023-07-02T16:08:06.778Z"
   },
   {
    "duration": 284,
    "start_time": "2023-07-02T16:08:06.786Z"
   },
   {
    "duration": 32,
    "start_time": "2023-07-02T16:08:07.072Z"
   },
   {
    "duration": 5,
    "start_time": "2023-07-02T16:08:07.108Z"
   },
   {
    "duration": 19,
    "start_time": "2023-07-02T16:08:07.114Z"
   },
   {
    "duration": 539,
    "start_time": "2023-07-02T16:08:07.135Z"
   },
   {
    "duration": 5,
    "start_time": "2023-07-02T16:08:07.677Z"
   },
   {
    "duration": 17,
    "start_time": "2023-07-02T16:08:07.684Z"
   },
   {
    "duration": 281,
    "start_time": "2023-07-02T16:08:07.703Z"
   },
   {
    "duration": 21,
    "start_time": "2023-07-02T16:08:07.986Z"
   },
   {
    "duration": 1003,
    "start_time": "2023-07-02T16:08:08.009Z"
   },
   {
    "duration": 20,
    "start_time": "2023-07-02T16:08:09.014Z"
   },
   {
    "duration": 190,
    "start_time": "2023-07-02T16:08:09.036Z"
   },
   {
    "duration": 6,
    "start_time": "2023-07-02T16:08:09.228Z"
   },
   {
    "duration": 37,
    "start_time": "2023-07-02T16:08:09.236Z"
   },
   {
    "duration": 23,
    "start_time": "2023-07-02T16:08:09.275Z"
   },
   {
    "duration": 17,
    "start_time": "2023-07-02T16:08:09.300Z"
   },
   {
    "duration": 1438,
    "start_time": "2023-07-02T16:17:50.535Z"
   },
   {
    "duration": 111,
    "start_time": "2023-07-02T16:17:51.975Z"
   },
   {
    "duration": 24,
    "start_time": "2023-07-02T16:17:52.088Z"
   },
   {
    "duration": 19,
    "start_time": "2023-07-02T16:17:52.114Z"
   },
   {
    "duration": 32,
    "start_time": "2023-07-02T16:17:52.135Z"
   },
   {
    "duration": 32,
    "start_time": "2023-07-02T16:17:52.174Z"
   },
   {
    "duration": 6,
    "start_time": "2023-07-02T16:17:52.208Z"
   },
   {
    "duration": 9,
    "start_time": "2023-07-02T16:17:52.217Z"
   },
   {
    "duration": 10,
    "start_time": "2023-07-02T16:17:52.228Z"
   },
   {
    "duration": 8,
    "start_time": "2023-07-02T16:17:52.240Z"
   },
   {
    "duration": 280,
    "start_time": "2023-07-02T16:17:52.250Z"
   },
   {
    "duration": 151,
    "start_time": "2023-07-02T16:17:52.532Z"
   },
   {
    "duration": 0,
    "start_time": "2023-07-02T16:17:52.685Z"
   },
   {
    "duration": 0,
    "start_time": "2023-07-02T16:17:52.687Z"
   },
   {
    "duration": 0,
    "start_time": "2023-07-02T16:17:52.688Z"
   },
   {
    "duration": 0,
    "start_time": "2023-07-02T16:17:52.690Z"
   },
   {
    "duration": 0,
    "start_time": "2023-07-02T16:17:52.691Z"
   },
   {
    "duration": 0,
    "start_time": "2023-07-02T16:17:52.693Z"
   },
   {
    "duration": 0,
    "start_time": "2023-07-02T16:17:52.694Z"
   },
   {
    "duration": 0,
    "start_time": "2023-07-02T16:17:52.695Z"
   },
   {
    "duration": 0,
    "start_time": "2023-07-02T16:17:52.697Z"
   },
   {
    "duration": 0,
    "start_time": "2023-07-02T16:17:52.698Z"
   },
   {
    "duration": 0,
    "start_time": "2023-07-02T16:17:52.699Z"
   },
   {
    "duration": 0,
    "start_time": "2023-07-02T16:17:52.701Z"
   },
   {
    "duration": 0,
    "start_time": "2023-07-02T16:17:52.702Z"
   },
   {
    "duration": 0,
    "start_time": "2023-07-02T16:17:52.703Z"
   },
   {
    "duration": 0,
    "start_time": "2023-07-02T16:17:52.704Z"
   },
   {
    "duration": 0,
    "start_time": "2023-07-02T16:17:52.705Z"
   },
   {
    "duration": 0,
    "start_time": "2023-07-02T16:17:52.707Z"
   },
   {
    "duration": 0,
    "start_time": "2023-07-02T16:17:52.708Z"
   },
   {
    "duration": 0,
    "start_time": "2023-07-02T16:17:52.709Z"
   },
   {
    "duration": 0,
    "start_time": "2023-07-02T16:17:52.710Z"
   },
   {
    "duration": 0,
    "start_time": "2023-07-02T16:17:52.712Z"
   },
   {
    "duration": 0,
    "start_time": "2023-07-02T16:17:52.713Z"
   },
   {
    "duration": 0,
    "start_time": "2023-07-02T16:17:52.715Z"
   },
   {
    "duration": 0,
    "start_time": "2023-07-02T16:17:52.716Z"
   },
   {
    "duration": 0,
    "start_time": "2023-07-02T16:17:52.717Z"
   },
   {
    "duration": 0,
    "start_time": "2023-07-02T16:17:52.719Z"
   },
   {
    "duration": 0,
    "start_time": "2023-07-02T16:17:52.720Z"
   },
   {
    "duration": 0,
    "start_time": "2023-07-02T16:17:52.721Z"
   },
   {
    "duration": 0,
    "start_time": "2023-07-02T16:17:52.722Z"
   },
   {
    "duration": 0,
    "start_time": "2023-07-02T16:17:52.724Z"
   },
   {
    "duration": 0,
    "start_time": "2023-07-02T16:17:52.725Z"
   },
   {
    "duration": 0,
    "start_time": "2023-07-02T16:17:52.760Z"
   },
   {
    "duration": 15,
    "start_time": "2023-07-02T16:18:06.293Z"
   },
   {
    "duration": 199,
    "start_time": "2023-07-02T16:18:18.283Z"
   },
   {
    "duration": 265,
    "start_time": "2023-07-02T16:18:49.699Z"
   },
   {
    "duration": 184,
    "start_time": "2023-07-02T16:19:38.886Z"
   },
   {
    "duration": 126,
    "start_time": "2023-07-02T16:20:17.183Z"
   },
   {
    "duration": 141,
    "start_time": "2023-07-02T16:20:40.015Z"
   },
   {
    "duration": 155,
    "start_time": "2023-07-02T16:20:43.847Z"
   },
   {
    "duration": 241,
    "start_time": "2023-07-02T16:21:12.244Z"
   },
   {
    "duration": 255,
    "start_time": "2023-07-02T16:22:01.522Z"
   },
   {
    "duration": 1932,
    "start_time": "2023-07-02T19:55:02.106Z"
   },
   {
    "duration": 301,
    "start_time": "2023-07-02T19:55:04.040Z"
   },
   {
    "duration": 25,
    "start_time": "2023-07-02T19:55:04.343Z"
   },
   {
    "duration": 49,
    "start_time": "2023-07-02T19:55:04.370Z"
   },
   {
    "duration": 16,
    "start_time": "2023-07-02T19:55:04.421Z"
   },
   {
    "duration": 11,
    "start_time": "2023-07-02T19:55:04.439Z"
   },
   {
    "duration": 55,
    "start_time": "2023-07-02T19:55:04.452Z"
   },
   {
    "duration": 14,
    "start_time": "2023-07-02T19:55:04.509Z"
   },
   {
    "duration": 24,
    "start_time": "2023-07-02T19:55:04.525Z"
   },
   {
    "duration": 59,
    "start_time": "2023-07-02T19:55:04.551Z"
   },
   {
    "duration": 295,
    "start_time": "2023-07-02T19:55:04.612Z"
   },
   {
    "duration": 209,
    "start_time": "2023-07-02T19:55:04.910Z"
   },
   {
    "duration": 6,
    "start_time": "2023-07-02T19:55:05.121Z"
   },
   {
    "duration": 119,
    "start_time": "2023-07-02T19:55:05.131Z"
   },
   {
    "duration": 298,
    "start_time": "2023-07-02T19:55:05.267Z"
   },
   {
    "duration": 11,
    "start_time": "2023-07-02T19:55:05.566Z"
   },
   {
    "duration": 744,
    "start_time": "2023-07-02T19:55:05.579Z"
   },
   {
    "duration": 6,
    "start_time": "2023-07-02T19:55:06.325Z"
   },
   {
    "duration": 406,
    "start_time": "2023-07-02T19:55:06.332Z"
   },
   {
    "duration": 4,
    "start_time": "2023-07-02T19:55:06.740Z"
   },
   {
    "duration": 57,
    "start_time": "2023-07-02T19:55:06.751Z"
   },
   {
    "duration": 25,
    "start_time": "2023-07-02T19:55:06.811Z"
   },
   {
    "duration": 66,
    "start_time": "2023-07-02T19:55:06.838Z"
   },
   {
    "duration": 24,
    "start_time": "2023-07-02T19:55:06.906Z"
   },
   {
    "duration": 742,
    "start_time": "2023-07-02T19:55:06.932Z"
   },
   {
    "duration": 16,
    "start_time": "2023-07-02T19:55:07.676Z"
   },
   {
    "duration": 300,
    "start_time": "2023-07-02T19:55:07.696Z"
   },
   {
    "duration": 24,
    "start_time": "2023-07-02T19:55:07.998Z"
   },
   {
    "duration": 5,
    "start_time": "2023-07-02T19:55:08.024Z"
   },
   {
    "duration": 38,
    "start_time": "2023-07-02T19:55:08.030Z"
   },
   {
    "duration": 748,
    "start_time": "2023-07-02T19:55:08.070Z"
   },
   {
    "duration": 7,
    "start_time": "2023-07-02T19:55:08.820Z"
   },
   {
    "duration": 7,
    "start_time": "2023-07-02T19:55:08.830Z"
   },
   {
    "duration": 326,
    "start_time": "2023-07-02T19:55:08.839Z"
   },
   {
    "duration": 38,
    "start_time": "2023-07-02T19:55:09.167Z"
   },
   {
    "duration": 1067,
    "start_time": "2023-07-02T19:55:09.207Z"
   },
   {
    "duration": 28,
    "start_time": "2023-07-02T19:55:10.276Z"
   },
   {
    "duration": 215,
    "start_time": "2023-07-02T19:55:10.306Z"
   },
   {
    "duration": 7,
    "start_time": "2023-07-02T19:55:10.525Z"
   },
   {
    "duration": 29,
    "start_time": "2023-07-02T19:55:10.534Z"
   },
   {
    "duration": 60,
    "start_time": "2023-07-02T19:55:10.568Z"
   },
   {
    "duration": 31,
    "start_time": "2023-07-02T19:55:10.630Z"
   },
   {
    "duration": 1747,
    "start_time": "2023-07-03T09:28:17.035Z"
   },
   {
    "duration": 236,
    "start_time": "2023-07-03T09:28:18.787Z"
   },
   {
    "duration": 28,
    "start_time": "2023-07-03T09:28:19.025Z"
   },
   {
    "duration": 27,
    "start_time": "2023-07-03T09:28:19.055Z"
   },
   {
    "duration": 19,
    "start_time": "2023-07-03T09:28:19.085Z"
   },
   {
    "duration": 14,
    "start_time": "2023-07-03T09:28:19.106Z"
   },
   {
    "duration": 35,
    "start_time": "2023-07-03T09:28:19.152Z"
   },
   {
    "duration": 8,
    "start_time": "2023-07-03T09:28:19.191Z"
   },
   {
    "duration": 11,
    "start_time": "2023-07-03T09:28:19.201Z"
   },
   {
    "duration": 13,
    "start_time": "2023-07-03T09:28:19.215Z"
   },
   {
    "duration": 281,
    "start_time": "2023-07-03T09:28:19.231Z"
   },
   {
    "duration": 202,
    "start_time": "2023-07-03T09:28:19.514Z"
   },
   {
    "duration": 6,
    "start_time": "2023-07-03T09:28:19.718Z"
   },
   {
    "duration": 114,
    "start_time": "2023-07-03T09:28:19.728Z"
   },
   {
    "duration": 272,
    "start_time": "2023-07-03T09:28:19.852Z"
   },
   {
    "duration": 7,
    "start_time": "2023-07-03T09:28:20.126Z"
   },
   {
    "duration": 677,
    "start_time": "2023-07-03T09:28:20.135Z"
   },
   {
    "duration": 7,
    "start_time": "2023-07-03T09:28:20.815Z"
   },
   {
    "duration": 382,
    "start_time": "2023-07-03T09:28:20.824Z"
   },
   {
    "duration": 9,
    "start_time": "2023-07-03T09:28:21.209Z"
   },
   {
    "duration": 30,
    "start_time": "2023-07-03T09:28:21.220Z"
   },
   {
    "duration": 37,
    "start_time": "2023-07-03T09:28:21.252Z"
   },
   {
    "duration": 33,
    "start_time": "2023-07-03T09:28:21.292Z"
   },
   {
    "duration": 38,
    "start_time": "2023-07-03T09:28:21.330Z"
   },
   {
    "duration": 680,
    "start_time": "2023-07-03T09:28:21.371Z"
   },
   {
    "duration": 8,
    "start_time": "2023-07-03T09:28:22.057Z"
   },
   {
    "duration": 296,
    "start_time": "2023-07-03T09:28:22.069Z"
   },
   {
    "duration": 24,
    "start_time": "2023-07-03T09:28:22.368Z"
   },
   {
    "duration": 7,
    "start_time": "2023-07-03T09:28:22.395Z"
   },
   {
    "duration": 19,
    "start_time": "2023-07-03T09:28:22.404Z"
   },
   {
    "duration": 588,
    "start_time": "2023-07-03T09:28:22.425Z"
   },
   {
    "duration": 6,
    "start_time": "2023-07-03T09:28:23.017Z"
   },
   {
    "duration": 20,
    "start_time": "2023-07-03T09:28:23.026Z"
   },
   {
    "duration": 385,
    "start_time": "2023-07-03T09:28:23.052Z"
   },
   {
    "duration": 35,
    "start_time": "2023-07-03T09:28:23.439Z"
   },
   {
    "duration": 1287,
    "start_time": "2023-07-03T09:28:23.477Z"
   },
   {
    "duration": 20,
    "start_time": "2023-07-03T09:28:24.770Z"
   },
   {
    "duration": 182,
    "start_time": "2023-07-03T09:28:24.792Z"
   },
   {
    "duration": 8,
    "start_time": "2023-07-03T09:28:24.976Z"
   },
   {
    "duration": 10,
    "start_time": "2023-07-03T09:28:24.986Z"
   },
   {
    "duration": 53,
    "start_time": "2023-07-03T09:28:25.001Z"
   },
   {
    "duration": 15,
    "start_time": "2023-07-03T09:28:25.056Z"
   },
   {
    "duration": 416,
    "start_time": "2023-07-03T09:53:36.290Z"
   },
   {
    "duration": 6,
    "start_time": "2023-07-03T10:00:37.599Z"
   },
   {
    "duration": 9,
    "start_time": "2023-07-03T10:00:58.297Z"
   },
   {
    "duration": 45,
    "start_time": "2023-07-03T12:14:25.200Z"
   },
   {
    "duration": 1267,
    "start_time": "2023-07-03T12:14:32.598Z"
   },
   {
    "duration": 297,
    "start_time": "2023-07-03T12:14:33.872Z"
   },
   {
    "duration": 19,
    "start_time": "2023-07-03T12:14:34.172Z"
   },
   {
    "duration": 15,
    "start_time": "2023-07-03T12:14:34.193Z"
   },
   {
    "duration": 13,
    "start_time": "2023-07-03T12:14:34.209Z"
   },
   {
    "duration": 15,
    "start_time": "2023-07-03T12:14:34.223Z"
   },
   {
    "duration": 5,
    "start_time": "2023-07-03T12:14:34.239Z"
   },
   {
    "duration": 27,
    "start_time": "2023-07-03T12:14:34.246Z"
   },
   {
    "duration": 5,
    "start_time": "2023-07-03T12:14:34.276Z"
   },
   {
    "duration": 8,
    "start_time": "2023-07-03T12:14:34.282Z"
   },
   {
    "duration": 5,
    "start_time": "2023-07-03T12:14:34.291Z"
   },
   {
    "duration": 202,
    "start_time": "2023-07-03T12:14:34.298Z"
   },
   {
    "duration": 133,
    "start_time": "2023-07-03T12:14:34.501Z"
   },
   {
    "duration": 5,
    "start_time": "2023-07-03T12:14:34.635Z"
   },
   {
    "duration": 89,
    "start_time": "2023-07-03T12:14:34.641Z"
   },
   {
    "duration": 203,
    "start_time": "2023-07-03T12:14:34.731Z"
   },
   {
    "duration": 4,
    "start_time": "2023-07-03T12:14:34.935Z"
   },
   {
    "duration": 495,
    "start_time": "2023-07-03T12:14:34.941Z"
   },
   {
    "duration": 5,
    "start_time": "2023-07-03T12:14:35.438Z"
   },
   {
    "duration": 287,
    "start_time": "2023-07-03T12:14:35.444Z"
   },
   {
    "duration": 4,
    "start_time": "2023-07-03T12:14:35.733Z"
   },
   {
    "duration": 13,
    "start_time": "2023-07-03T12:14:35.738Z"
   },
   {
    "duration": 19,
    "start_time": "2023-07-03T12:14:35.753Z"
   },
   {
    "duration": 19,
    "start_time": "2023-07-03T12:14:35.773Z"
   },
   {
    "duration": 22,
    "start_time": "2023-07-03T12:14:35.794Z"
   },
   {
    "duration": 538,
    "start_time": "2023-07-03T12:14:35.818Z"
   },
   {
    "duration": 9,
    "start_time": "2023-07-03T12:14:36.359Z"
   },
   {
    "duration": 207,
    "start_time": "2023-07-03T12:14:36.370Z"
   },
   {
    "duration": 19,
    "start_time": "2023-07-03T12:14:36.579Z"
   },
   {
    "duration": 4,
    "start_time": "2023-07-03T12:14:36.599Z"
   },
   {
    "duration": 9,
    "start_time": "2023-07-03T12:14:36.604Z"
   },
   {
    "duration": 408,
    "start_time": "2023-07-03T12:14:36.614Z"
   },
   {
    "duration": 5,
    "start_time": "2023-07-03T12:14:37.023Z"
   },
   {
    "duration": 13,
    "start_time": "2023-07-03T12:14:37.029Z"
   },
   {
    "duration": 228,
    "start_time": "2023-07-03T12:14:37.044Z"
   },
   {
    "duration": 21,
    "start_time": "2023-07-03T12:14:37.274Z"
   },
   {
    "duration": 805,
    "start_time": "2023-07-03T12:14:37.297Z"
   },
   {
    "duration": 15,
    "start_time": "2023-07-03T12:14:38.104Z"
   },
   {
    "duration": 146,
    "start_time": "2023-07-03T12:14:38.121Z"
   },
   {
    "duration": 6,
    "start_time": "2023-07-03T12:14:38.269Z"
   },
   {
    "duration": 12,
    "start_time": "2023-07-03T12:14:38.277Z"
   },
   {
    "duration": 21,
    "start_time": "2023-07-03T12:14:38.290Z"
   },
   {
    "duration": 10,
    "start_time": "2023-07-03T12:14:38.313Z"
   },
   {
    "duration": 6,
    "start_time": "2023-07-03T12:15:54.955Z"
   },
   {
    "duration": 9,
    "start_time": "2023-07-03T12:16:03.916Z"
   },
   {
    "duration": 5,
    "start_time": "2023-07-03T12:16:22.771Z"
   },
   {
    "duration": 7,
    "start_time": "2023-07-03T12:17:25.692Z"
   },
   {
    "duration": 90,
    "start_time": "2023-07-03T12:18:36.445Z"
   },
   {
    "duration": 9,
    "start_time": "2023-07-03T12:18:49.702Z"
   },
   {
    "duration": 15,
    "start_time": "2023-07-03T12:18:56.797Z"
   },
   {
    "duration": 7,
    "start_time": "2023-07-03T12:19:03.494Z"
   },
   {
    "duration": 12,
    "start_time": "2023-07-03T12:19:42.152Z"
   },
   {
    "duration": 9,
    "start_time": "2023-07-03T12:19:46.656Z"
   },
   {
    "duration": 6,
    "start_time": "2023-07-03T12:19:56.904Z"
   },
   {
    "duration": 9,
    "start_time": "2023-07-03T12:20:51.031Z"
   },
   {
    "duration": 9,
    "start_time": "2023-07-03T12:21:12.303Z"
   },
   {
    "duration": 6,
    "start_time": "2023-07-03T12:21:17.215Z"
   },
   {
    "duration": 9,
    "start_time": "2023-07-03T12:23:38.711Z"
   },
   {
    "duration": 12,
    "start_time": "2023-07-03T12:24:43.654Z"
   },
   {
    "duration": 13,
    "start_time": "2023-07-03T12:25:02.336Z"
   },
   {
    "duration": 6,
    "start_time": "2023-07-03T12:25:18.123Z"
   },
   {
    "duration": 8,
    "start_time": "2023-07-03T12:26:07.749Z"
   },
   {
    "duration": 5,
    "start_time": "2023-07-03T12:26:26.453Z"
   },
   {
    "duration": 9,
    "start_time": "2023-07-03T12:27:06.257Z"
   },
   {
    "duration": 752,
    "start_time": "2023-07-03T12:29:21.229Z"
   },
   {
    "duration": 2,
    "start_time": "2023-07-03T12:29:55.190Z"
   },
   {
    "duration": 798,
    "start_time": "2023-07-03T12:29:56.112Z"
   },
   {
    "duration": 15,
    "start_time": "2023-07-03T12:29:58.992Z"
   },
   {
    "duration": 15,
    "start_time": "2023-07-03T12:30:06.432Z"
   },
   {
    "duration": 3,
    "start_time": "2023-07-03T12:38:38.110Z"
   },
   {
    "duration": 2,
    "start_time": "2023-07-03T12:38:52.535Z"
   },
   {
    "duration": 2,
    "start_time": "2023-07-03T12:39:08.512Z"
   },
   {
    "duration": 18,
    "start_time": "2023-07-03T12:39:46.734Z"
   },
   {
    "duration": 18,
    "start_time": "2023-07-03T12:39:49.143Z"
   },
   {
    "duration": 17,
    "start_time": "2023-07-03T12:39:50.718Z"
   },
   {
    "duration": 1222,
    "start_time": "2023-07-03T13:02:41.402Z"
   },
   {
    "duration": 66,
    "start_time": "2023-07-03T13:02:42.626Z"
   },
   {
    "duration": 2,
    "start_time": "2023-07-03T13:02:42.693Z"
   },
   {
    "duration": 13,
    "start_time": "2023-07-03T13:02:42.697Z"
   },
   {
    "duration": 20,
    "start_time": "2023-07-03T13:02:42.711Z"
   },
   {
    "duration": 31,
    "start_time": "2023-07-03T13:02:42.732Z"
   },
   {
    "duration": 16,
    "start_time": "2023-07-03T13:02:42.764Z"
   },
   {
    "duration": 14,
    "start_time": "2023-07-03T13:02:42.781Z"
   },
   {
    "duration": 18,
    "start_time": "2023-07-03T13:02:42.797Z"
   },
   {
    "duration": 20,
    "start_time": "2023-07-03T13:02:42.817Z"
   },
   {
    "duration": 19,
    "start_time": "2023-07-03T13:02:42.838Z"
   },
   {
    "duration": 5,
    "start_time": "2023-07-03T13:02:42.858Z"
   },
   {
    "duration": 13,
    "start_time": "2023-07-03T13:02:42.865Z"
   },
   {
    "duration": 20,
    "start_time": "2023-07-03T13:02:42.880Z"
   },
   {
    "duration": 15,
    "start_time": "2023-07-03T13:02:42.901Z"
   },
   {
    "duration": 19,
    "start_time": "2023-07-03T13:02:42.917Z"
   },
   {
    "duration": 17,
    "start_time": "2023-07-03T13:02:42.937Z"
   },
   {
    "duration": 183,
    "start_time": "2023-07-03T13:02:42.955Z"
   },
   {
    "duration": 143,
    "start_time": "2023-07-03T13:02:43.141Z"
   },
   {
    "duration": 6,
    "start_time": "2023-07-03T13:02:43.285Z"
   },
   {
    "duration": 88,
    "start_time": "2023-07-03T13:02:43.292Z"
   },
   {
    "duration": 201,
    "start_time": "2023-07-03T13:02:43.382Z"
   },
   {
    "duration": 4,
    "start_time": "2023-07-03T13:02:43.585Z"
   },
   {
    "duration": 516,
    "start_time": "2023-07-03T13:02:43.590Z"
   },
   {
    "duration": 7,
    "start_time": "2023-07-03T13:02:44.107Z"
   },
   {
    "duration": 310,
    "start_time": "2023-07-03T13:02:44.116Z"
   },
   {
    "duration": 5,
    "start_time": "2023-07-03T13:02:44.428Z"
   },
   {
    "duration": 12,
    "start_time": "2023-07-03T13:02:44.436Z"
   },
   {
    "duration": 24,
    "start_time": "2023-07-03T13:02:44.449Z"
   },
   {
    "duration": 23,
    "start_time": "2023-07-03T13:02:44.474Z"
   },
   {
    "duration": 19,
    "start_time": "2023-07-03T13:02:44.498Z"
   },
   {
    "duration": 529,
    "start_time": "2023-07-03T13:02:44.518Z"
   },
   {
    "duration": 5,
    "start_time": "2023-07-03T13:02:45.049Z"
   },
   {
    "duration": 213,
    "start_time": "2023-07-03T13:02:45.068Z"
   },
   {
    "duration": 18,
    "start_time": "2023-07-03T13:02:45.283Z"
   },
   {
    "duration": 4,
    "start_time": "2023-07-03T13:02:45.302Z"
   },
   {
    "duration": 22,
    "start_time": "2023-07-03T13:02:45.307Z"
   },
   {
    "duration": 409,
    "start_time": "2023-07-03T13:02:45.331Z"
   },
   {
    "duration": 5,
    "start_time": "2023-07-03T13:02:45.741Z"
   },
   {
    "duration": 21,
    "start_time": "2023-07-03T13:02:45.747Z"
   },
   {
    "duration": 256,
    "start_time": "2023-07-03T13:02:45.770Z"
   },
   {
    "duration": 19,
    "start_time": "2023-07-03T13:02:46.028Z"
   },
   {
    "duration": 5,
    "start_time": "2023-07-03T13:02:46.049Z"
   },
   {
    "duration": 825,
    "start_time": "2023-07-03T13:02:46.069Z"
   },
   {
    "duration": 15,
    "start_time": "2023-07-03T13:02:46.895Z"
   },
   {
    "duration": 167,
    "start_time": "2023-07-03T13:02:46.911Z"
   },
   {
    "duration": 5,
    "start_time": "2023-07-03T13:02:47.080Z"
   },
   {
    "duration": 35,
    "start_time": "2023-07-03T13:02:47.087Z"
   },
   {
    "duration": 49,
    "start_time": "2023-07-03T13:02:47.124Z"
   },
   {
    "duration": 29,
    "start_time": "2023-07-03T13:02:47.175Z"
   },
   {
    "duration": 576,
    "start_time": "2023-07-03T13:03:22.962Z"
   },
   {
    "duration": 9,
    "start_time": "2023-07-03T13:08:07.695Z"
   },
   {
    "duration": 1420,
    "start_time": "2023-07-03T21:58:04.307Z"
   },
   {
    "duration": 194,
    "start_time": "2023-07-03T21:58:05.729Z"
   },
   {
    "duration": 2,
    "start_time": "2023-07-03T21:58:05.925Z"
   },
   {
    "duration": 6,
    "start_time": "2023-07-03T21:58:05.928Z"
   },
   {
    "duration": 13,
    "start_time": "2023-07-03T21:58:05.936Z"
   },
   {
    "duration": 28,
    "start_time": "2023-07-03T21:58:05.950Z"
   },
   {
    "duration": 19,
    "start_time": "2023-07-03T21:58:05.980Z"
   },
   {
    "duration": 11,
    "start_time": "2023-07-03T21:58:06.001Z"
   },
   {
    "duration": 29,
    "start_time": "2023-07-03T21:58:06.013Z"
   },
   {
    "duration": 14,
    "start_time": "2023-07-03T21:58:06.044Z"
   },
   {
    "duration": 10,
    "start_time": "2023-07-03T21:58:06.059Z"
   },
   {
    "duration": 23,
    "start_time": "2023-07-03T21:58:06.071Z"
   },
   {
    "duration": 8,
    "start_time": "2023-07-03T21:58:06.095Z"
   },
   {
    "duration": 26,
    "start_time": "2023-07-03T21:58:06.106Z"
   },
   {
    "duration": 14,
    "start_time": "2023-07-03T21:58:06.134Z"
   },
   {
    "duration": 16,
    "start_time": "2023-07-03T21:58:06.149Z"
   },
   {
    "duration": 5,
    "start_time": "2023-07-03T21:58:06.166Z"
   },
   {
    "duration": 215,
    "start_time": "2023-07-03T21:58:06.172Z"
   },
   {
    "duration": 162,
    "start_time": "2023-07-03T21:58:06.388Z"
   },
   {
    "duration": 8,
    "start_time": "2023-07-03T21:58:06.553Z"
   },
   {
    "duration": 94,
    "start_time": "2023-07-03T21:58:06.562Z"
   },
   {
    "duration": 236,
    "start_time": "2023-07-03T21:58:06.657Z"
   },
   {
    "duration": 4,
    "start_time": "2023-07-03T21:58:06.895Z"
   },
   {
    "duration": 538,
    "start_time": "2023-07-03T21:58:06.900Z"
   },
   {
    "duration": 7,
    "start_time": "2023-07-03T21:58:07.440Z"
   },
   {
    "duration": 316,
    "start_time": "2023-07-03T21:58:07.448Z"
   },
   {
    "duration": 5,
    "start_time": "2023-07-03T21:58:07.765Z"
   },
   {
    "duration": 21,
    "start_time": "2023-07-03T21:58:07.772Z"
   },
   {
    "duration": 12,
    "start_time": "2023-07-03T21:58:07.795Z"
   },
   {
    "duration": 33,
    "start_time": "2023-07-03T21:58:07.810Z"
   },
   {
    "duration": 24,
    "start_time": "2023-07-03T21:58:07.845Z"
   },
   {
    "duration": 561,
    "start_time": "2023-07-03T21:58:07.871Z"
   },
   {
    "duration": 6,
    "start_time": "2023-07-03T21:58:08.434Z"
   },
   {
    "duration": 222,
    "start_time": "2023-07-03T21:58:08.445Z"
   },
   {
    "duration": 21,
    "start_time": "2023-07-03T21:58:08.669Z"
   },
   {
    "duration": 5,
    "start_time": "2023-07-03T21:58:08.691Z"
   },
   {
    "duration": 9,
    "start_time": "2023-07-03T21:58:08.698Z"
   },
   {
    "duration": 446,
    "start_time": "2023-07-03T21:58:08.709Z"
   },
   {
    "duration": 4,
    "start_time": "2023-07-03T21:58:09.157Z"
   },
   {
    "duration": 14,
    "start_time": "2023-07-03T21:58:09.162Z"
   },
   {
    "duration": 223,
    "start_time": "2023-07-03T21:58:09.179Z"
   },
   {
    "duration": 17,
    "start_time": "2023-07-03T21:58:09.404Z"
   },
   {
    "duration": 12,
    "start_time": "2023-07-03T21:58:09.422Z"
   },
   {
    "duration": 763,
    "start_time": "2023-07-03T21:58:09.436Z"
   },
   {
    "duration": 15,
    "start_time": "2023-07-03T21:58:10.201Z"
   },
   {
    "duration": 168,
    "start_time": "2023-07-03T21:58:10.218Z"
   },
   {
    "duration": 5,
    "start_time": "2023-07-03T21:58:10.388Z"
   },
   {
    "duration": 9,
    "start_time": "2023-07-03T21:58:10.395Z"
   },
   {
    "duration": 35,
    "start_time": "2023-07-03T21:58:10.406Z"
   },
   {
    "duration": 14,
    "start_time": "2023-07-03T21:58:10.443Z"
   },
   {
    "duration": 1283,
    "start_time": "2023-09-23T14:05:04.444Z"
   },
   {
    "duration": 359,
    "start_time": "2023-09-23T14:05:05.729Z"
   },
   {
    "duration": 2,
    "start_time": "2023-09-23T14:05:06.089Z"
   },
   {
    "duration": 21,
    "start_time": "2023-09-23T14:05:06.093Z"
   },
   {
    "duration": 52,
    "start_time": "2023-09-23T14:05:06.116Z"
   },
   {
    "duration": 23,
    "start_time": "2023-09-23T14:05:06.171Z"
   },
   {
    "duration": 19,
    "start_time": "2023-09-23T14:05:06.195Z"
   },
   {
    "duration": 15,
    "start_time": "2023-09-23T14:05:06.216Z"
   },
   {
    "duration": 8,
    "start_time": "2023-09-23T14:05:06.233Z"
   },
   {
    "duration": 30,
    "start_time": "2023-09-23T14:05:06.247Z"
   },
   {
    "duration": 29,
    "start_time": "2023-09-23T14:05:06.279Z"
   },
   {
    "duration": 9,
    "start_time": "2023-09-23T14:05:06.310Z"
   },
   {
    "duration": 11,
    "start_time": "2023-09-23T14:05:06.321Z"
   },
   {
    "duration": 15,
    "start_time": "2023-09-23T14:05:06.335Z"
   },
   {
    "duration": 22,
    "start_time": "2023-09-23T14:05:06.352Z"
   },
   {
    "duration": 12,
    "start_time": "2023-09-23T14:05:06.378Z"
   },
   {
    "duration": 5,
    "start_time": "2023-09-23T14:05:06.391Z"
   },
   {
    "duration": 199,
    "start_time": "2023-09-23T14:05:06.397Z"
   },
   {
    "duration": 139,
    "start_time": "2023-09-23T14:05:06.598Z"
   },
   {
    "duration": 16,
    "start_time": "2023-09-23T14:05:06.746Z"
   },
   {
    "duration": 119,
    "start_time": "2023-09-23T14:05:06.763Z"
   },
   {
    "duration": 224,
    "start_time": "2023-09-23T14:05:06.883Z"
   },
   {
    "duration": 5,
    "start_time": "2023-09-23T14:05:07.109Z"
   },
   {
    "duration": 587,
    "start_time": "2023-09-23T14:05:07.116Z"
   },
   {
    "duration": 7,
    "start_time": "2023-09-23T14:05:07.705Z"
   },
   {
    "duration": 366,
    "start_time": "2023-09-23T14:05:07.713Z"
   },
   {
    "duration": 4,
    "start_time": "2023-09-23T14:05:08.081Z"
   },
   {
    "duration": 14,
    "start_time": "2023-09-23T14:05:08.089Z"
   },
   {
    "duration": 12,
    "start_time": "2023-09-23T14:05:08.104Z"
   },
   {
    "duration": 30,
    "start_time": "2023-09-23T14:05:08.118Z"
   },
   {
    "duration": 35,
    "start_time": "2023-09-23T14:05:08.150Z"
   },
   {
    "duration": 575,
    "start_time": "2023-09-23T14:05:08.187Z"
   },
   {
    "duration": 15,
    "start_time": "2023-09-23T14:05:08.764Z"
   },
   {
    "duration": 218,
    "start_time": "2023-09-23T14:05:08.781Z"
   },
   {
    "duration": 17,
    "start_time": "2023-09-23T14:05:09.001Z"
   },
   {
    "duration": 10,
    "start_time": "2023-09-23T14:05:09.020Z"
   },
   {
    "duration": 10,
    "start_time": "2023-09-23T14:05:09.049Z"
   },
   {
    "duration": 467,
    "start_time": "2023-09-23T14:05:09.065Z"
   },
   {
    "duration": 13,
    "start_time": "2023-09-23T14:05:09.533Z"
   },
   {
    "duration": 20,
    "start_time": "2023-09-23T14:05:09.548Z"
   },
   {
    "duration": 216,
    "start_time": "2023-09-23T14:05:09.574Z"
   },
   {
    "duration": 16,
    "start_time": "2023-09-23T14:05:09.792Z"
   },
   {
    "duration": 12,
    "start_time": "2023-09-23T14:05:09.810Z"
   },
   {
    "duration": 884,
    "start_time": "2023-09-23T14:05:09.823Z"
   },
   {
    "duration": 17,
    "start_time": "2023-09-23T14:05:10.709Z"
   },
   {
    "duration": 190,
    "start_time": "2023-09-23T14:05:10.728Z"
   },
   {
    "duration": 5,
    "start_time": "2023-09-23T14:05:10.920Z"
   },
   {
    "duration": 30,
    "start_time": "2023-09-23T14:05:10.926Z"
   },
   {
    "duration": 25,
    "start_time": "2023-09-23T14:05:10.962Z"
   },
   {
    "duration": 9,
    "start_time": "2023-09-23T14:05:10.988Z"
   },
   {
    "duration": 3,
    "start_time": "2023-09-23T14:05:32.313Z"
   },
   {
    "duration": 5,
    "start_time": "2023-09-23T14:05:42.430Z"
   }
  ],
  "kernelspec": {
   "display_name": "Python 3 (ipykernel)",
   "language": "python",
   "name": "python3"
  },
  "language_info": {
   "codemirror_mode": {
    "name": "ipython",
    "version": 3
   },
   "file_extension": ".py",
   "mimetype": "text/x-python",
   "name": "python",
   "nbconvert_exporter": "python",
   "pygments_lexer": "ipython3",
   "version": "3.9.5"
  },
  "toc": {
   "base_numbering": 1,
   "nav_menu": {},
   "number_sections": true,
   "sideBar": true,
   "skip_h1_title": true,
   "title_cell": "Table of Contents",
   "title_sidebar": "Contents",
   "toc_cell": false,
   "toc_position": {
    "height": "calc(100% - 180px)",
    "left": "10px",
    "top": "150px",
    "width": "165px"
   },
   "toc_section_display": true,
   "toc_window_display": true
  }
 },
 "nbformat": 4,
 "nbformat_minor": 5
}
